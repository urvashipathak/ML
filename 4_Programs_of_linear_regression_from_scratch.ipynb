{
  "nbformat": 4,
  "nbformat_minor": 0,
  "metadata": {
    "colab": {
      "name": "4_Programs_of_linear_regression_from_scratch.ipynb",
      "provenance": [],
      "authorship_tag": "ABX9TyO1Xe4gszn6SJpOt8QNwwPq",
      "include_colab_link": true
    },
    "kernelspec": {
      "name": "python3",
      "display_name": "Python 3"
    },
    "language_info": {
      "name": "python"
    }
  },
  "cells": [
    {
      "cell_type": "markdown",
      "metadata": {
        "id": "view-in-github",
        "colab_type": "text"
      },
      "source": [
        "<a href=\"https://colab.research.google.com/github/urvashipathak/ML/blob/main/4_Programs_of_linear_regression_from_scratch.ipynb\" target=\"_parent\"><img src=\"https://colab.research.google.com/assets/colab-badge.svg\" alt=\"Open In Colab\"/></a>"
      ]
    },
    {
      "cell_type": "code",
      "execution_count": null,
      "metadata": {
        "id": "unSRO-I-PRxw"
      },
      "outputs": [],
      "source": [
        "import numpy as np\n",
        "import pandas as pd\n",
        "import seaborn as sns\n",
        "import matplotlib.pyplot as plt\n",
        "from sklearn.model_selection import train_test_split,cross_val_score\n",
        "from sklearn.linear_model import LinearRegression\n",
        "from sklearn.metrics import mean_absolute_error"
      ]
    },
    {
      "cell_type": "code",
      "source": [
        "from google.colab import drive\n",
        "drive.mount('/content/drive/',force_remount=True)"
      ],
      "metadata": {
        "colab": {
          "base_uri": "https://localhost:8080/"
        },
        "id": "JAqf4CW-PdaV",
        "outputId": "bff8337b-c22b-4ba5-f857-cc0ee614b647"
      },
      "execution_count": null,
      "outputs": [
        {
          "output_type": "stream",
          "name": "stdout",
          "text": [
            "Mounted at /content/drive/\n"
          ]
        }
      ]
    },
    {
      "cell_type": "code",
      "source": [
        "from google.colab import drive\n",
        "drive.mount('/content/drive')"
      ],
      "metadata": {
        "colab": {
          "base_uri": "https://localhost:8080/"
        },
        "id": "xoqBHkDSQhnH",
        "outputId": "256f7c57-0fe6-449e-8ffa-077aac8303f9"
      },
      "execution_count": null,
      "outputs": [
        {
          "output_type": "stream",
          "name": "stdout",
          "text": [
            "Drive already mounted at /content/drive; to attempt to forcibly remount, call drive.mount(\"/content/drive\", force_remount=True).\n"
          ]
        }
      ]
    },
    {
      "cell_type": "code",
      "source": [
        "data = pd.read_csv(\"/content/drive/MyDrive/Salary_Data.csv\")"
      ],
      "metadata": {
        "id": "Uk3PVtT5Qovh"
      },
      "execution_count": null,
      "outputs": []
    },
    {
      "cell_type": "code",
      "source": [
        "data.head(6)"
      ],
      "metadata": {
        "colab": {
          "base_uri": "https://localhost:8080/",
          "height": 237
        },
        "id": "9d8lx-gNQx0T",
        "outputId": "8109894d-7ad6-4fe7-80dc-a58fad22b88c"
      },
      "execution_count": null,
      "outputs": [
        {
          "output_type": "execute_result",
          "data": {
            "text/plain": [
              "   YearsExperience   Salary\n",
              "0              1.1  39343.0\n",
              "1              1.3  46205.0\n",
              "2              1.5  37731.0\n",
              "3              2.0  43525.0\n",
              "4              2.2  39891.0\n",
              "5              2.9  56642.0"
            ],
            "text/html": [
              "\n",
              "  <div id=\"df-1b2e322b-be28-4b9c-9bf1-f616b6472b6b\">\n",
              "    <div class=\"colab-df-container\">\n",
              "      <div>\n",
              "<style scoped>\n",
              "    .dataframe tbody tr th:only-of-type {\n",
              "        vertical-align: middle;\n",
              "    }\n",
              "\n",
              "    .dataframe tbody tr th {\n",
              "        vertical-align: top;\n",
              "    }\n",
              "\n",
              "    .dataframe thead th {\n",
              "        text-align: right;\n",
              "    }\n",
              "</style>\n",
              "<table border=\"1\" class=\"dataframe\">\n",
              "  <thead>\n",
              "    <tr style=\"text-align: right;\">\n",
              "      <th></th>\n",
              "      <th>YearsExperience</th>\n",
              "      <th>Salary</th>\n",
              "    </tr>\n",
              "  </thead>\n",
              "  <tbody>\n",
              "    <tr>\n",
              "      <th>0</th>\n",
              "      <td>1.1</td>\n",
              "      <td>39343.0</td>\n",
              "    </tr>\n",
              "    <tr>\n",
              "      <th>1</th>\n",
              "      <td>1.3</td>\n",
              "      <td>46205.0</td>\n",
              "    </tr>\n",
              "    <tr>\n",
              "      <th>2</th>\n",
              "      <td>1.5</td>\n",
              "      <td>37731.0</td>\n",
              "    </tr>\n",
              "    <tr>\n",
              "      <th>3</th>\n",
              "      <td>2.0</td>\n",
              "      <td>43525.0</td>\n",
              "    </tr>\n",
              "    <tr>\n",
              "      <th>4</th>\n",
              "      <td>2.2</td>\n",
              "      <td>39891.0</td>\n",
              "    </tr>\n",
              "    <tr>\n",
              "      <th>5</th>\n",
              "      <td>2.9</td>\n",
              "      <td>56642.0</td>\n",
              "    </tr>\n",
              "  </tbody>\n",
              "</table>\n",
              "</div>\n",
              "      <button class=\"colab-df-convert\" onclick=\"convertToInteractive('df-1b2e322b-be28-4b9c-9bf1-f616b6472b6b')\"\n",
              "              title=\"Convert this dataframe to an interactive table.\"\n",
              "              style=\"display:none;\">\n",
              "        \n",
              "  <svg xmlns=\"http://www.w3.org/2000/svg\" height=\"24px\"viewBox=\"0 0 24 24\"\n",
              "       width=\"24px\">\n",
              "    <path d=\"M0 0h24v24H0V0z\" fill=\"none\"/>\n",
              "    <path d=\"M18.56 5.44l.94 2.06.94-2.06 2.06-.94-2.06-.94-.94-2.06-.94 2.06-2.06.94zm-11 1L8.5 8.5l.94-2.06 2.06-.94-2.06-.94L8.5 2.5l-.94 2.06-2.06.94zm10 10l.94 2.06.94-2.06 2.06-.94-2.06-.94-.94-2.06-.94 2.06-2.06.94z\"/><path d=\"M17.41 7.96l-1.37-1.37c-.4-.4-.92-.59-1.43-.59-.52 0-1.04.2-1.43.59L10.3 9.45l-7.72 7.72c-.78.78-.78 2.05 0 2.83L4 21.41c.39.39.9.59 1.41.59.51 0 1.02-.2 1.41-.59l7.78-7.78 2.81-2.81c.8-.78.8-2.07 0-2.86zM5.41 20L4 18.59l7.72-7.72 1.47 1.35L5.41 20z\"/>\n",
              "  </svg>\n",
              "      </button>\n",
              "      \n",
              "  <style>\n",
              "    .colab-df-container {\n",
              "      display:flex;\n",
              "      flex-wrap:wrap;\n",
              "      gap: 12px;\n",
              "    }\n",
              "\n",
              "    .colab-df-convert {\n",
              "      background-color: #E8F0FE;\n",
              "      border: none;\n",
              "      border-radius: 50%;\n",
              "      cursor: pointer;\n",
              "      display: none;\n",
              "      fill: #1967D2;\n",
              "      height: 32px;\n",
              "      padding: 0 0 0 0;\n",
              "      width: 32px;\n",
              "    }\n",
              "\n",
              "    .colab-df-convert:hover {\n",
              "      background-color: #E2EBFA;\n",
              "      box-shadow: 0px 1px 2px rgba(60, 64, 67, 0.3), 0px 1px 3px 1px rgba(60, 64, 67, 0.15);\n",
              "      fill: #174EA6;\n",
              "    }\n",
              "\n",
              "    [theme=dark] .colab-df-convert {\n",
              "      background-color: #3B4455;\n",
              "      fill: #D2E3FC;\n",
              "    }\n",
              "\n",
              "    [theme=dark] .colab-df-convert:hover {\n",
              "      background-color: #434B5C;\n",
              "      box-shadow: 0px 1px 3px 1px rgba(0, 0, 0, 0.15);\n",
              "      filter: drop-shadow(0px 1px 2px rgba(0, 0, 0, 0.3));\n",
              "      fill: #FFFFFF;\n",
              "    }\n",
              "  </style>\n",
              "\n",
              "      <script>\n",
              "        const buttonEl =\n",
              "          document.querySelector('#df-1b2e322b-be28-4b9c-9bf1-f616b6472b6b button.colab-df-convert');\n",
              "        buttonEl.style.display =\n",
              "          google.colab.kernel.accessAllowed ? 'block' : 'none';\n",
              "\n",
              "        async function convertToInteractive(key) {\n",
              "          const element = document.querySelector('#df-1b2e322b-be28-4b9c-9bf1-f616b6472b6b');\n",
              "          const dataTable =\n",
              "            await google.colab.kernel.invokeFunction('convertToInteractive',\n",
              "                                                     [key], {});\n",
              "          if (!dataTable) return;\n",
              "\n",
              "          const docLinkHtml = 'Like what you see? Visit the ' +\n",
              "            '<a target=\"_blank\" href=https://colab.research.google.com/notebooks/data_table.ipynb>data table notebook</a>'\n",
              "            + ' to learn more about interactive tables.';\n",
              "          element.innerHTML = '';\n",
              "          dataTable['output_type'] = 'display_data';\n",
              "          await google.colab.output.renderOutput(dataTable, element);\n",
              "          const docLink = document.createElement('div');\n",
              "          docLink.innerHTML = docLinkHtml;\n",
              "          element.appendChild(docLink);\n",
              "        }\n",
              "      </script>\n",
              "    </div>\n",
              "  </div>\n",
              "  "
            ]
          },
          "metadata": {},
          "execution_count": 5
        }
      ]
    },
    {
      "cell_type": "code",
      "source": [
        "plt.scatter(data['YearsExperience'], data['Salary'])\n",
        "plt.show()"
      ],
      "metadata": {
        "colab": {
          "base_uri": "https://localhost:8080/",
          "height": 265
        },
        "id": "iWotw2NYRNAg",
        "outputId": "41980527-8926-4d15-f24a-4c78c88ffe9d"
      },
      "execution_count": null,
      "outputs": [
        {
          "output_type": "display_data",
          "data": {
            "text/plain": [
              "<Figure size 432x288 with 1 Axes>"
            ],
            "image/png": "[encoded data removed]"
          },
          "metadata": {
            "needs_background": "light"
          }
        }
      ]
    },
    {
      "cell_type": "code",
      "source": [
        "corr = data.corr()\n",
        "corr"
      ],
      "metadata": {
        "colab": {
          "base_uri": "https://localhost:8080/",
          "height": 112
        },
        "id": "XfLykYncRqtD",
        "outputId": "ad78c632-9a14-4cd4-d236-8f72ace32e76"
      },
      "execution_count": null,
      "outputs": [
        {
          "output_type": "execute_result",
          "data": {
            "text/plain": [
              "                 YearsExperience    Salary\n",
              "YearsExperience         1.000000  0.978242\n",
              "Salary                  0.978242  1.000000"
            ],
            "text/html": [
              "\n",
              "  <div id=\"df-46b2c39a-3c30-4d6e-8279-2363656d6bd4\">\n",
              "    <div class=\"colab-df-container\">\n",
              "      <div>\n",
              "<style scoped>\n",
              "    .dataframe tbody tr th:only-of-type {\n",
              "        vertical-align: middle;\n",
              "    }\n",
              "\n",
              "    .dataframe tbody tr th {\n",
              "        vertical-align: top;\n",
              "    }\n",
              "\n",
              "    .dataframe thead th {\n",
              "        text-align: right;\n",
              "    }\n",
              "</style>\n",
              "<table border=\"1\" class=\"dataframe\">\n",
              "  <thead>\n",
              "    <tr style=\"text-align: right;\">\n",
              "      <th></th>\n",
              "      <th>YearsExperience</th>\n",
              "      <th>Salary</th>\n",
              "    </tr>\n",
              "  </thead>\n",
              "  <tbody>\n",
              "    <tr>\n",
              "      <th>YearsExperience</th>\n",
              "      <td>1.000000</td>\n",
              "      <td>0.978242</td>\n",
              "    </tr>\n",
              "    <tr>\n",
              "      <th>Salary</th>\n",
              "      <td>0.978242</td>\n",
              "      <td>1.000000</td>\n",
              "    </tr>\n",
              "  </tbody>\n",
              "</table>\n",
              "</div>\n",
              "      <button class=\"colab-df-convert\" onclick=\"convertToInteractive('df-46b2c39a-3c30-4d6e-8279-2363656d6bd4')\"\n",
              "              title=\"Convert this dataframe to an interactive table.\"\n",
              "              style=\"display:none;\">\n",
              "        \n",
              "  <svg xmlns=\"http://www.w3.org/2000/svg\" height=\"24px\"viewBox=\"0 0 24 24\"\n",
              "       width=\"24px\">\n",
              "    <path d=\"M0 0h24v24H0V0z\" fill=\"none\"/>\n",
              "    <path d=\"M18.56 5.44l.94 2.06.94-2.06 2.06-.94-2.06-.94-.94-2.06-.94 2.06-2.06.94zm-11 1L8.5 8.5l.94-2.06 2.06-.94-2.06-.94L8.5 2.5l-.94 2.06-2.06.94zm10 10l.94 2.06.94-2.06 2.06-.94-2.06-.94-.94-2.06-.94 2.06-2.06.94z\"/><path d=\"M17.41 7.96l-1.37-1.37c-.4-.4-.92-.59-1.43-.59-.52 0-1.04.2-1.43.59L10.3 9.45l-7.72 7.72c-.78.78-.78 2.05 0 2.83L4 21.41c.39.39.9.59 1.41.59.51 0 1.02-.2 1.41-.59l7.78-7.78 2.81-2.81c.8-.78.8-2.07 0-2.86zM5.41 20L4 18.59l7.72-7.72 1.47 1.35L5.41 20z\"/>\n",
              "  </svg>\n",
              "      </button>\n",
              "      \n",
              "  <style>\n",
              "    .colab-df-container {\n",
              "      display:flex;\n",
              "      flex-wrap:wrap;\n",
              "      gap: 12px;\n",
              "    }\n",
              "\n",
              "    .colab-df-convert {\n",
              "      background-color: #E8F0FE;\n",
              "      border: none;\n",
              "      border-radius: 50%;\n",
              "      cursor: pointer;\n",
              "      display: none;\n",
              "      fill: #1967D2;\n",
              "      height: 32px;\n",
              "      padding: 0 0 0 0;\n",
              "      width: 32px;\n",
              "    }\n",
              "\n",
              "    .colab-df-convert:hover {\n",
              "      background-color: #E2EBFA;\n",
              "      box-shadow: 0px 1px 2px rgba(60, 64, 67, 0.3), 0px 1px 3px 1px rgba(60, 64, 67, 0.15);\n",
              "      fill: #174EA6;\n",
              "    }\n",
              "\n",
              "    [theme=dark] .colab-df-convert {\n",
              "      background-color: #3B4455;\n",
              "      fill: #D2E3FC;\n",
              "    }\n",
              "\n",
              "    [theme=dark] .colab-df-convert:hover {\n",
              "      background-color: #434B5C;\n",
              "      box-shadow: 0px 1px 3px 1px rgba(0, 0, 0, 0.15);\n",
              "      filter: drop-shadow(0px 1px 2px rgba(0, 0, 0, 0.3));\n",
              "      fill: #FFFFFF;\n",
              "    }\n",
              "  </style>\n",
              "\n",
              "      <script>\n",
              "        const buttonEl =\n",
              "          document.querySelector('#df-46b2c39a-3c30-4d6e-8279-2363656d6bd4 button.colab-df-convert');\n",
              "        buttonEl.style.display =\n",
              "          google.colab.kernel.accessAllowed ? 'block' : 'none';\n",
              "\n",
              "        async function convertToInteractive(key) {\n",
              "          const element = document.querySelector('#df-46b2c39a-3c30-4d6e-8279-2363656d6bd4');\n",
              "          const dataTable =\n",
              "            await google.colab.kernel.invokeFunction('convertToInteractive',\n",
              "                                                     [key], {});\n",
              "          if (!dataTable) return;\n",
              "\n",
              "          const docLinkHtml = 'Like what you see? Visit the ' +\n",
              "            '<a target=\"_blank\" href=https://colab.research.google.com/notebooks/data_table.ipynb>data table notebook</a>'\n",
              "            + ' to learn more about interactive tables.';\n",
              "          element.innerHTML = '';\n",
              "          dataTable['output_type'] = 'display_data';\n",
              "          await google.colab.output.renderOutput(dataTable, element);\n",
              "          const docLink = document.createElement('div');\n",
              "          docLink.innerHTML = docLinkHtml;\n",
              "          element.appendChild(docLink);\n",
              "        }\n",
              "      </script>\n",
              "    </div>\n",
              "  </div>\n",
              "  "
            ]
          },
          "metadata": {},
          "execution_count": 7
        }
      ]
    },
    {
      "cell_type": "code",
      "source": [
        "train_data, test_data = train_test_split(data, test_size=.2, random_state=42)"
      ],
      "metadata": {
        "id": "lZvQxL7iRyUA"
      },
      "execution_count": null,
      "outputs": []
    },
    {
      "cell_type": "code",
      "source": [
        "train_x, train_y = np.array(train_data['YearsExperience']).reshape(-1,1),np.array(train_data['Salary']).reshape(-1,1)\n",
        "test_x, test_y = np.array(test_data['YearsExperience']).reshape(-1,1),np.array(test_data['Salary']).reshape(-1,1)"
      ],
      "metadata": {
        "id": "udkcEZe6SAUK"
      },
      "execution_count": null,
      "outputs": []
    },
    {
      "cell_type": "code",
      "source": [
        "from sklearn.preprocessing import StandardScaler\n",
        "scaler = StandardScaler()\n",
        "train_x = scaler.fit_transform(train_x)\n",
        "train_x"
      ],
      "metadata": {
        "colab": {
          "base_uri": "https://localhost:8080/"
        },
        "id": "gkBFFwdpSsok",
        "outputId": "b52fe44f-27e7-4680-ecf9-64f91aeff413"
      },
      "execution_count": null,
      "outputs": [
        {
          "output_type": "execute_result",
          "data": {
            "text/plain": [
              "array([[ 1.77445774],\n",
              "       [ 1.21912622],\n",
              "       [-0.41216011],\n",
              "       [-1.41869849],\n",
              "       [-1.03690807],\n",
              "       [-0.03036969],\n",
              "       [-0.79395053],\n",
              "       [-0.37745189],\n",
              "       [-0.41216011],\n",
              "       [ 0.94146047],\n",
              "       [-1.34928205],\n",
              "       [-1.27986561],\n",
              "       [ 1.32325088],\n",
              "       [-1.10632451],\n",
              "       [ 0.66379471],\n",
              "       [ 1.49679198],\n",
              "       [ 0.24729607],\n",
              "       [ 1.84387418],\n",
              "       [ 0.55967005],\n",
              "       [-0.68982587],\n",
              "       [-0.44686833],\n",
              "       [-0.23861901],\n",
              "       [ 0.28200429],\n",
              "       [-0.75924231]])"
            ]
          },
          "metadata": {},
          "execution_count": 10
        }
      ]
    },
    {
      "cell_type": "code",
      "source": [
        "model = LinearRegression()\n",
        "model.fit(train_x, train_y)"
      ],
      "metadata": {
        "colab": {
          "base_uri": "https://localhost:8080/"
        },
        "id": "JjYboG9oS2D-",
        "outputId": "5ee937bf-d81c-4d7c-96c2-65f74ecfd9a9"
      },
      "execution_count": null,
      "outputs": [
        {
          "output_type": "execute_result",
          "data": {
            "text/plain": [
              "LinearRegression()"
            ]
          },
          "metadata": {},
          "execution_count": 11
        }
      ]
    },
    {
      "cell_type": "code",
      "source": [
        "model.score(train_x,train_y)"
      ],
      "metadata": {
        "colab": {
          "base_uri": "https://localhost:8080/"
        },
        "id": "c__ynp25TZYK",
        "outputId": "b01d2410-e0be-4950-aa38-eec80546574a"
      },
      "execution_count": null,
      "outputs": [
        {
          "output_type": "execute_result",
          "data": {
            "text/plain": [
              "0.9645401573418148"
            ]
          },
          "metadata": {},
          "execution_count": 12
        }
      ]
    },
    {
      "cell_type": "code",
      "source": [
        "score = cross_val_score(model, train_x,train_y,scoring='neg_mean_absolute_error',cv=3)\n",
        "score = (-score)\n",
        "score.mean()"
      ],
      "metadata": {
        "colab": {
          "base_uri": "https://localhost:8080/"
        },
        "id": "Bdl3RCKhUR_K",
        "outputId": "eabb239d-913f-431a-9b33-bb9a5a805368"
      },
      "execution_count": null,
      "outputs": [
        {
          "output_type": "execute_result",
          "data": {
            "text/plain": [
              "4332.312200086067"
            ]
          },
          "metadata": {},
          "execution_count": 14
        }
      ]
    },
    {
      "cell_type": "code",
      "source": [
        "test_x = scaler.transform(test_x)\n",
        "test_predict = model.predict(test_x)\n",
        "score = mean_absolute_error(test_y,test_predict)\n",
        "score"
      ],
      "metadata": {
        "colab": {
          "base_uri": "https://localhost:8080/"
        },
        "id": "4763HL4pUWHJ",
        "outputId": "b56ac0f4-ef75-4396-d26e-da9c59b214ec"
      },
      "execution_count": null,
      "outputs": [
        {
          "output_type": "execute_result",
          "data": {
            "text/plain": [
              "6286.453830757746"
            ]
          },
          "metadata": {},
          "execution_count": 15
        }
      ]
    },
    {
      "cell_type": "code",
      "source": [
        "model.score(test_x,test_y)"
      ],
      "metadata": {
        "colab": {
          "base_uri": "https://localhost:8080/"
        },
        "id": "Q6vfbl83UZ2e",
        "outputId": "c8c82ea9-3d29-4c0c-d90d-45d571e720ef"
      },
      "execution_count": null,
      "outputs": [
        {
          "output_type": "execute_result",
          "data": {
            "text/plain": [
              "0.9024461774180498"
            ]
          },
          "metadata": {},
          "execution_count": 16
        }
      ]
    },
    {
      "cell_type": "code",
      "source": [
        "plt.scatter(test_x,test_y,color = 'b',alpha = 0.8)\n",
        "plt.plot(test_x,test_predict,color='r')\n",
        "plt.show()"
      ],
      "metadata": {
        "colab": {
          "base_uri": "https://localhost:8080/",
          "height": 265
        },
        "id": "q_xcEz8VUfXc",
        "outputId": "53fc595b-6e48-4b5d-9ff6-27e1e22069d2"
      },
      "execution_count": null,
      "outputs": [
        {
          "output_type": "display_data",
          "data": {
            "text/plain": [
              "<Figure size 432x288 with 1 Axes>"
            ],
            "image/png": "[encoded data removed]"
          },
          "metadata": {
            "needs_background": "light"
          }
        }
      ]
    },
    {
      "cell_type": "code",
      "source": [
        "class MyLinearRegression:\n",
        "    def __init__(self, weight=9.1,bias=3,learning_rate=0.01,\n",
        "                 iterations=100):\n",
        "        self.weight = weight\n",
        "        self.bias = bias\n",
        "        self.learning_rate = learning_rate\n",
        "        self.iterations = iterations\n",
        "        self.cost_trend = []\n",
        "        self.cost = 0\n",
        "\n",
        "    def predict(self, x):\n",
        "        predicted_set = []\n",
        "        for i in range(len(x)):\n",
        "            predicted_value = self.weight * x[i] + self.bias\n",
        "            predicted_set.append(predicted_value)\n",
        "        return predicted_set\n",
        "\n",
        "    def cost_function(self, x, y):\n",
        "        count = len(x)\n",
        "        total_error = 0.0\n",
        "        for i in range(count):\n",
        "            total_error += (y[i] - (self.weight * x[i] +\n",
        "                            self.bias)) ** 2\n",
        "        return float(total_error) / (2 * count)\n",
        "\n",
        "    def update_weights(self, x, y):\n",
        "        weight_deriv = 0\n",
        "        bias_deriv = 0\n",
        "        count = len(x)\n",
        "\n",
        "        for i in range(count):\n",
        "            # Calculate partial derivatives\n",
        "            # -2x(y - (mx + b))\n",
        "            weight_deriv += -2 * x[i] * (y[i] -(self.weight * x[i] + self.bias))\n",
        "\n",
        "            # -2(y - (mx + b))\n",
        "            bias_deriv += -2 * (y[i] - (self.weight * x[i] +\n",
        "                                self.bias))\n",
        "\n",
        "        # We subtract because the derivatives point in direction of steepest\n",
        "        # ascent\n",
        "        self.weight -= (weight_deriv / count) * self.learning_rate\n",
        "        self.bias -= (bias_deriv / count) * self.learning_rate\n",
        "\n",
        "    def train(self, x, y):\n",
        "        for i in range(self.iterations):\n",
        "            self.update_weights(x, y)\n",
        "            # Calculating cost\n",
        "            self.cost = self.cost_function(x, y)\n",
        "            self.cost_trend.append(self.cost)\n",
        "           # if i % 10000 == 0:\n",
        "            print(\"Iteration: {}\\t Weight: {}\\t Bias: {}\\t Cost: {}\".format(i, self.weight, self.bias, self.cost))"
      ],
      "metadata": {
        "id": "xdOTXhpCWTZb"
      },
      "execution_count": null,
      "outputs": []
    },
    {
      "cell_type": "code",
      "source": [
        "import pandas as pd\n",
        "import numpy as np\n",
        "import matplotlib.pyplot as plt\n",
        "# intialise data of lists. \n",
        "data = {'Hours':[2.5,5.1,3.2,8.5,3.5,1.5,9.2,5.5,8.3,2.7,7.7,5.9,4.5,3.3,1.1,8.9,2.5,1.9,6.1,7.4,2.7,4.8,3.8,6.9,7.8], \n",
        "        'Scores':[21,47,27,75,30,20,88,60,81,25,85,62,41,42,17,95,30,24,67,69,30,54,35,76,86]} \n",
        "  \n",
        "# Create DataFrame \n",
        "studentscores = pd.DataFrame(data) \n",
        "  \n",
        "# Print the output. \n",
        "studentscores"
      ],
      "metadata": {
        "colab": {
          "base_uri": "https://localhost:8080/",
          "height": 833
        },
        "id": "TxHAtg0eXky8",
        "outputId": "c09e5d68-0b14-46ad-eee8-6f8f7bdce91c"
      },
      "execution_count": null,
      "outputs": [
        {
          "output_type": "execute_result",
          "data": {
            "text/plain": [
              "    Hours  Scores\n",
              "0     2.5      21\n",
              "1     5.1      47\n",
              "2     3.2      27\n",
              "3     8.5      75\n",
              "4     3.5      30\n",
              "5     1.5      20\n",
              "6     9.2      88\n",
              "7     5.5      60\n",
              "8     8.3      81\n",
              "9     2.7      25\n",
              "10    7.7      85\n",
              "11    5.9      62\n",
              "12    4.5      41\n",
              "13    3.3      42\n",
              "14    1.1      17\n",
              "15    8.9      95\n",
              "16    2.5      30\n",
              "17    1.9      24\n",
              "18    6.1      67\n",
              "19    7.4      69\n",
              "20    2.7      30\n",
              "21    4.8      54\n",
              "22    3.8      35\n",
              "23    6.9      76\n",
              "24    7.8      86"
            ],
            "text/html": [
              "\n",
              "  <div id=\"df-e8b8c1cc-1bd3-4f6d-948b-3fd7b3d277eb\">\n",
              "    <div class=\"colab-df-container\">\n",
              "      <div>\n",
              "<style scoped>\n",
              "    .dataframe tbody tr th:only-of-type {\n",
              "        vertical-align: middle;\n",
              "    }\n",
              "\n",
              "    .dataframe tbody tr th {\n",
              "        vertical-align: top;\n",
              "    }\n",
              "\n",
              "    .dataframe thead th {\n",
              "        text-align: right;\n",
              "    }\n",
              "</style>\n",
              "<table border=\"1\" class=\"dataframe\">\n",
              "  <thead>\n",
              "    <tr style=\"text-align: right;\">\n",
              "      <th></th>\n",
              "      <th>Hours</th>\n",
              "      <th>Scores</th>\n",
              "    </tr>\n",
              "  </thead>\n",
              "  <tbody>\n",
              "    <tr>\n",
              "      <th>0</th>\n",
              "      <td>2.5</td>\n",
              "      <td>21</td>\n",
              "    </tr>\n",
              "    <tr>\n",
              "      <th>1</th>\n",
              "      <td>5.1</td>\n",
              "      <td>47</td>\n",
              "    </tr>\n",
              "    <tr>\n",
              "      <th>2</th>\n",
              "      <td>3.2</td>\n",
              "      <td>27</td>\n",
              "    </tr>\n",
              "    <tr>\n",
              "      <th>3</th>\n",
              "      <td>8.5</td>\n",
              "      <td>75</td>\n",
              "    </tr>\n",
              "    <tr>\n",
              "      <th>4</th>\n",
              "      <td>3.5</td>\n",
              "      <td>30</td>\n",
              "    </tr>\n",
              "    <tr>\n",
              "      <th>5</th>\n",
              "      <td>1.5</td>\n",
              "      <td>20</td>\n",
              "    </tr>\n",
              "    <tr>\n",
              "      <th>6</th>\n",
              "      <td>9.2</td>\n",
              "      <td>88</td>\n",
              "    </tr>\n",
              "    <tr>\n",
              "      <th>7</th>\n",
              "      <td>5.5</td>\n",
              "      <td>60</td>\n",
              "    </tr>\n",
              "    <tr>\n",
              "      <th>8</th>\n",
              "      <td>8.3</td>\n",
              "      <td>81</td>\n",
              "    </tr>\n",
              "    <tr>\n",
              "      <th>9</th>\n",
              "      <td>2.7</td>\n",
              "      <td>25</td>\n",
              "    </tr>\n",
              "    <tr>\n",
              "      <th>10</th>\n",
              "      <td>7.7</td>\n",
              "      <td>85</td>\n",
              "    </tr>\n",
              "    <tr>\n",
              "      <th>11</th>\n",
              "      <td>5.9</td>\n",
              "      <td>62</td>\n",
              "    </tr>\n",
              "    <tr>\n",
              "      <th>12</th>\n",
              "      <td>4.5</td>\n",
              "      <td>41</td>\n",
              "    </tr>\n",
              "    <tr>\n",
              "      <th>13</th>\n",
              "      <td>3.3</td>\n",
              "      <td>42</td>\n",
              "    </tr>\n",
              "    <tr>\n",
              "      <th>14</th>\n",
              "      <td>1.1</td>\n",
              "      <td>17</td>\n",
              "    </tr>\n",
              "    <tr>\n",
              "      <th>15</th>\n",
              "      <td>8.9</td>\n",
              "      <td>95</td>\n",
              "    </tr>\n",
              "    <tr>\n",
              "      <th>16</th>\n",
              "      <td>2.5</td>\n",
              "      <td>30</td>\n",
              "    </tr>\n",
              "    <tr>\n",
              "      <th>17</th>\n",
              "      <td>1.9</td>\n",
              "      <td>24</td>\n",
              "    </tr>\n",
              "    <tr>\n",
              "      <th>18</th>\n",
              "      <td>6.1</td>\n",
              "      <td>67</td>\n",
              "    </tr>\n",
              "    <tr>\n",
              "      <th>19</th>\n",
              "      <td>7.4</td>\n",
              "      <td>69</td>\n",
              "    </tr>\n",
              "    <tr>\n",
              "      <th>20</th>\n",
              "      <td>2.7</td>\n",
              "      <td>30</td>\n",
              "    </tr>\n",
              "    <tr>\n",
              "      <th>21</th>\n",
              "      <td>4.8</td>\n",
              "      <td>54</td>\n",
              "    </tr>\n",
              "    <tr>\n",
              "      <th>22</th>\n",
              "      <td>3.8</td>\n",
              "      <td>35</td>\n",
              "    </tr>\n",
              "    <tr>\n",
              "      <th>23</th>\n",
              "      <td>6.9</td>\n",
              "      <td>76</td>\n",
              "    </tr>\n",
              "    <tr>\n",
              "      <th>24</th>\n",
              "      <td>7.8</td>\n",
              "      <td>86</td>\n",
              "    </tr>\n",
              "  </tbody>\n",
              "</table>\n",
              "</div>\n",
              "      <button class=\"colab-df-convert\" onclick=\"convertToInteractive('df-e8b8c1cc-1bd3-4f6d-948b-3fd7b3d277eb')\"\n",
              "              title=\"Convert this dataframe to an interactive table.\"\n",
              "              style=\"display:none;\">\n",
              "        \n",
              "  <svg xmlns=\"http://www.w3.org/2000/svg\" height=\"24px\"viewBox=\"0 0 24 24\"\n",
              "       width=\"24px\">\n",
              "    <path d=\"M0 0h24v24H0V0z\" fill=\"none\"/>\n",
              "    <path d=\"M18.56 5.44l.94 2.06.94-2.06 2.06-.94-2.06-.94-.94-2.06-.94 2.06-2.06.94zm-11 1L8.5 8.5l.94-2.06 2.06-.94-2.06-.94L8.5 2.5l-.94 2.06-2.06.94zm10 10l.94 2.06.94-2.06 2.06-.94-2.06-.94-.94-2.06-.94 2.06-2.06.94z\"/><path d=\"M17.41 7.96l-1.37-1.37c-.4-.4-.92-.59-1.43-.59-.52 0-1.04.2-1.43.59L10.3 9.45l-7.72 7.72c-.78.78-.78 2.05 0 2.83L4 21.41c.39.39.9.59 1.41.59.51 0 1.02-.2 1.41-.59l7.78-7.78 2.81-2.81c.8-.78.8-2.07 0-2.86zM5.41 20L4 18.59l7.72-7.72 1.47 1.35L5.41 20z\"/>\n",
              "  </svg>\n",
              "      </button>\n",
              "      \n",
              "  <style>\n",
              "    .colab-df-container {\n",
              "      display:flex;\n",
              "      flex-wrap:wrap;\n",
              "      gap: 12px;\n",
              "    }\n",
              "\n",
              "    .colab-df-convert {\n",
              "      background-color: #E8F0FE;\n",
              "      border: none;\n",
              "      border-radius: 50%;\n",
              "      cursor: pointer;\n",
              "      display: none;\n",
              "      fill: #1967D2;\n",
              "      height: 32px;\n",
              "      padding: 0 0 0 0;\n",
              "      width: 32px;\n",
              "    }\n",
              "\n",
              "    .colab-df-convert:hover {\n",
              "      background-color: #E2EBFA;\n",
              "      box-shadow: 0px 1px 2px rgba(60, 64, 67, 0.3), 0px 1px 3px 1px rgba(60, 64, 67, 0.15);\n",
              "      fill: #174EA6;\n",
              "    }\n",
              "\n",
              "    [theme=dark] .colab-df-convert {\n",
              "      background-color: #3B4455;\n",
              "      fill: #D2E3FC;\n",
              "    }\n",
              "\n",
              "    [theme=dark] .colab-df-convert:hover {\n",
              "      background-color: #434B5C;\n",
              "      box-shadow: 0px 1px 3px 1px rgba(0, 0, 0, 0.15);\n",
              "      filter: drop-shadow(0px 1px 2px rgba(0, 0, 0, 0.3));\n",
              "      fill: #FFFFFF;\n",
              "    }\n",
              "  </style>\n",
              "\n",
              "      <script>\n",
              "        const buttonEl =\n",
              "          document.querySelector('#df-e8b8c1cc-1bd3-4f6d-948b-3fd7b3d277eb button.colab-df-convert');\n",
              "        buttonEl.style.display =\n",
              "          google.colab.kernel.accessAllowed ? 'block' : 'none';\n",
              "\n",
              "        async function convertToInteractive(key) {\n",
              "          const element = document.querySelector('#df-e8b8c1cc-1bd3-4f6d-948b-3fd7b3d277eb');\n",
              "          const dataTable =\n",
              "            await google.colab.kernel.invokeFunction('convertToInteractive',\n",
              "                                                     [key], {});\n",
              "          if (!dataTable) return;\n",
              "\n",
              "          const docLinkHtml = 'Like what you see? Visit the ' +\n",
              "            '<a target=\"_blank\" href=https://colab.research.google.com/notebooks/data_table.ipynb>data table notebook</a>'\n",
              "            + ' to learn more about interactive tables.';\n",
              "          element.innerHTML = '';\n",
              "          dataTable['output_type'] = 'display_data';\n",
              "          await google.colab.output.renderOutput(dataTable, element);\n",
              "          const docLink = document.createElement('div');\n",
              "          docLink.innerHTML = docLinkHtml;\n",
              "          element.appendChild(docLink);\n",
              "        }\n",
              "      </script>\n",
              "    </div>\n",
              "  </div>\n",
              "  "
            ]
          },
          "metadata": {},
          "execution_count": 21
        }
      ]
    },
    {
      "cell_type": "code",
      "source": [
        "x=[2.5,5.1,3.2,8.5,3.5,1.5,9.2,5.5,8.3,2.7,7.7,5.9,4.5,3.3,1.1,8.9,2.5,1.9,6.1,7.4,2.7,4.8,3.8,6.9,7.8] \n",
        "y=[21,47,27,75,30,20,88,60,81,25,85,62,41,42,17,95,30,24,67,69,30,54,35,76,86]\n",
        "plt.scatter(x,y,s=10)\n",
        "plt.xlabel('X')\n",
        "plt.ylabel('y')\n",
        "plt.show()"
      ],
      "metadata": {
        "colab": {
          "base_uri": "https://localhost:8080/",
          "height": 279
        },
        "id": "uhTcjsWVWjKd",
        "outputId": "243f0284-2bb7-421c-e66d-ad1c7ef95fc3"
      },
      "execution_count": null,
      "outputs": [
        {
          "output_type": "display_data",
          "data": {
            "text/plain": [
              "<Figure size 432x288 with 1 Axes>"
            ],
            "image/png": "[encoded data removed]"
          },
          "metadata": {
            "needs_background": "light"
          }
        }
      ]
    },
    {
      "cell_type": "code",
      "source": [
        "#from my_linear_regression import MyLinearRegression\n",
        "import matplotlib.pyplot as plt\n",
        "import pandas as pd\n",
        "from sklearn.model_selection import train_test_split\n",
        "# Importing the dataset\n",
        "X = studentscores.iloc[:, : -1].values\n",
        "y = studentscores.iloc[:, -1].values\n",
        "X,y"
      ],
      "metadata": {
        "colab": {
          "base_uri": "https://localhost:8080/"
        },
        "id": "aoB4CxFjYCuS",
        "outputId": "9b7cbdb7-518e-4073-839e-fce480fe6f42"
      },
      "execution_count": null,
      "outputs": [
        {
          "output_type": "execute_result",
          "data": {
            "text/plain": [
              "(array([[2.5],\n",
              "        [5.1],\n",
              "        [3.2],\n",
              "        [8.5],\n",
              "        [3.5],\n",
              "        [1.5],\n",
              "        [9.2],\n",
              "        [5.5],\n",
              "        [8.3],\n",
              "        [2.7],\n",
              "        [7.7],\n",
              "        [5.9],\n",
              "        [4.5],\n",
              "        [3.3],\n",
              "        [1.1],\n",
              "        [8.9],\n",
              "        [2.5],\n",
              "        [1.9],\n",
              "        [6.1],\n",
              "        [7.4],\n",
              "        [2.7],\n",
              "        [4.8],\n",
              "        [3.8],\n",
              "        [6.9],\n",
              "        [7.8]]),\n",
              " array([21, 47, 27, 75, 30, 20, 88, 60, 81, 25, 85, 62, 41, 42, 17, 95, 30,\n",
              "        24, 67, 69, 30, 54, 35, 76, 86]))"
            ]
          },
          "metadata": {},
          "execution_count": 23
        }
      ]
    },
    {
      "cell_type": "code",
      "source": [
        "X_train, X_test, y_train, y_test = train_test_split(X, y, test_size=1/8, random_state=0)\n",
        "\n",
        "# Fitting Simple Linear Regression to the Training set\n",
        "regressor = MyLinearRegression()\n",
        "regressor.train(X_train, y_train)\n",
        "print('Weight: ' + str(regressor.weight) + ' Bias: ' + str(regressor.bias))\n",
        "\n",
        "# Predicting the Test set results\n",
        "y_pred = regressor.predict(X_test)"
      ],
      "metadata": {
        "colab": {
          "base_uri": "https://localhost:8080/"
        },
        "id": "bvV-otEVZBn4",
        "outputId": "d67ebdc5-5567-4fed-e454-e7ec94de0a31"
      },
      "execution_count": null,
      "outputs": [
        {
          "output_type": "stream",
          "name": "stdout",
          "text": [
            "Iteration: 0\t Weight: [9.55121619]\t Bias: [3.06726667]\t Cost: 15.58358879961457\n",
            "Iteration: 1\t Weight: [9.69129389]\t Bias: [3.08561692]\t Cost: 14.929929711121483\n",
            "Iteration: 2\t Weight: [9.73504726]\t Bias: [3.08883198]\t Cost: 14.866690885067442\n",
            "Iteration: 3\t Weight: [9.74897899]\t Bias: [3.08736988]\t Cost: 14.860042724861309\n",
            "Iteration: 4\t Weight: [9.75367713]\t Bias: [3.08446822]\t Cost: 14.858822296580565\n",
            "Iteration: 5\t Weight: [9.7555154]\t Bias: [3.08112928]\t Cost: 14.858126052286119\n",
            "Iteration: 6\t Weight: [9.756467]\t Bias: [3.07766331]\t Cost: 14.857484002514454\n",
            "Iteration: 7\t Weight: [9.75714279]\t Bias: [3.07416633]\t Cost: 14.85685107586143\n",
            "Iteration: 8\t Weight: [9.75773188]\t Bias: [3.07066804]\t Cost: 14.85622292579377\n",
            "Iteration: 9\t Weight: [9.75829284]\t Bias: [3.06717762]\t Cost: 14.855599109084725\n",
            "Iteration: 10\t Weight: [9.7588438]\t Bias: [3.06369786]\t Cost: 14.854979556787455\n",
            "Iteration: 11\t Weight: [9.75939036]\t Bias: [3.06022961]\t Cost: 14.854364236007314\n",
            "Iteration: 12\t Weight: [9.75993429]\t Bias: [3.0567731]\t Cost: 14.853753117484446\n",
            "Iteration: 13\t Weight: [9.76047611]\t Bias: [3.05332837]\t Cost: 14.853146172485689\n",
            "Iteration: 14\t Weight: [9.761016]\t Bias: [3.04989542]\t Cost: 14.852543372505414\n",
            "Iteration: 15\t Weight: [9.76155403]\t Bias: [3.0464742]\t Cost: 14.85194468923566\n",
            "Iteration: 16\t Weight: [9.7620902]\t Bias: [3.04306469]\t Cost: 14.851350094562084\n",
            "Iteration: 17\t Weight: [9.76262454]\t Bias: [3.03966684]\t Cost: 14.850759560562384\n",
            "Iteration: 18\t Weight: [9.76315706]\t Bias: [3.03628061]\t Cost: 14.85017305950494\n",
            "Iteration: 19\t Weight: [9.76368775]\t Bias: [3.03290596]\t Cost: 14.849590563847507\n",
            "Iteration: 20\t Weight: [9.76421662]\t Bias: [3.02954286]\t Cost: 14.849012046235973\n",
            "Iteration: 21\t Weight: [9.76474369]\t Bias: [3.02619126]\t Cost: 14.848437479503005\n",
            "Iteration: 22\t Weight: [9.76526895]\t Bias: [3.02285113]\t Cost: 14.84786683666681\n",
            "Iteration: 23\t Weight: [9.76579242]\t Bias: [3.01952241]\t Cost: 14.847300090929851\n",
            "Iteration: 24\t Weight: [9.76631409]\t Bias: [3.01620509]\t Cost: 14.846737215677633\n",
            "Iteration: 25\t Weight: [9.76683398]\t Bias: [3.01289911]\t Cost: 14.846178184477399\n",
            "Iteration: 26\t Weight: [9.7673521]\t Bias: [3.00960444]\t Cost: 14.84562297107689\n",
            "Iteration: 27\t Weight: [9.76786844]\t Bias: [3.00632104]\t Cost: 14.845071549403174\n",
            "Iteration: 28\t Weight: [9.76838301]\t Bias: [3.00304887]\t Cost: 14.84452389356134\n",
            "Iteration: 29\t Weight: [9.76889583]\t Bias: [2.99978789]\t Cost: 14.843979977833339\n",
            "Iteration: 30\t Weight: [9.76940689]\t Bias: [2.99653807]\t Cost: 14.843439776676787\n",
            "Iteration: 31\t Weight: [9.7699162]\t Bias: [2.99329936]\t Cost: 14.842903264723677\n",
            "Iteration: 32\t Weight: [9.77042377]\t Bias: [2.99007174]\t Cost: 14.84237041677928\n",
            "Iteration: 33\t Weight: [9.77092961]\t Bias: [2.98685515]\t Cost: 14.841841207820943\n",
            "Iteration: 34\t Weight: [9.77143371]\t Bias: [2.98364956]\t Cost: 14.841315612996885\n",
            "Iteration: 35\t Weight: [9.77193609]\t Bias: [2.98045494]\t Cost: 14.840793607625043\n",
            "Iteration: 36\t Weight: [9.77243675]\t Bias: [2.97727124]\t Cost: 14.840275167191919\n",
            "Iteration: 37\t Weight: [9.7729357]\t Bias: [2.97409844]\t Cost: 14.839760267351428\n",
            "Iteration: 38\t Weight: [9.77343295]\t Bias: [2.97093649]\t Cost: 14.83924888392376\n",
            "Iteration: 39\t Weight: [9.77392849]\t Bias: [2.96778535]\t Cost: 14.838740992894207\n",
            "Iteration: 40\t Weight: [9.77442233]\t Bias: [2.96464499]\t Cost: 14.838236570412104\n",
            "Iteration: 41\t Weight: [9.77491449]\t Bias: [2.96151538]\t Cost: 14.837735592789633\n",
            "Iteration: 42\t Weight: [9.77540497]\t Bias: [2.95839646]\t Cost: 14.83723803650078\n",
            "Iteration: 43\t Weight: [9.77589376]\t Bias: [2.95528822]\t Cost: 14.836743878180172\n",
            "Iteration: 44\t Weight: [9.77638089]\t Bias: [2.95219061]\t Cost: 14.836253094622014\n",
            "Iteration: 45\t Weight: [9.77686634]\t Bias: [2.94910359]\t Cost: 14.835765662779014\n",
            "Iteration: 46\t Weight: [9.77735014]\t Bias: [2.94602714]\t Cost: 14.83528155976123\n",
            "Iteration: 47\t Weight: [9.77783228]\t Bias: [2.9429612]\t Cost: 14.834800762835087\n",
            "Iteration: 48\t Weight: [9.77831278]\t Bias: [2.93990576]\t Cost: 14.834323249422239\n",
            "Iteration: 49\t Weight: [9.77879163]\t Bias: [2.93686076]\t Cost: 14.833848997098537\n",
            "Iteration: 50\t Weight: [9.77926884]\t Bias: [2.93382618]\t Cost: 14.83337798359299\n",
            "Iteration: 51\t Weight: [9.77974442]\t Bias: [2.93080198]\t Cost: 14.83291018678668\n",
            "Iteration: 52\t Weight: [9.78021837]\t Bias: [2.92778812]\t Cost: 14.832445584711754\n",
            "Iteration: 53\t Weight: [9.78069071]\t Bias: [2.92478458]\t Cost: 14.831984155550405\n",
            "Iteration: 54\t Weight: [9.78116142]\t Bias: [2.9217913]\t Cost: 14.831525877633798\n",
            "Iteration: 55\t Weight: [9.78163053]\t Bias: [2.91880827]\t Cost: 14.831070729441095\n",
            "Iteration: 56\t Weight: [9.78209803]\t Bias: [2.91583544]\t Cost: 14.83061868959842\n",
            "Iteration: 57\t Weight: [9.78256393]\t Bias: [2.91287277]\t Cost: 14.830169736877892\n",
            "Iteration: 58\t Weight: [9.78302824]\t Bias: [2.90992024]\t Cost: 14.829723850196547\n",
            "Iteration: 59\t Weight: [9.78349096]\t Bias: [2.90697781]\t Cost: 14.829281008615494\n",
            "Iteration: 60\t Weight: [9.7839521]\t Bias: [2.90404545]\t Cost: 14.828841191338737\n",
            "Iteration: 61\t Weight: [9.78441166]\t Bias: [2.90112311]\t Cost: 14.828404377712394\n",
            "Iteration: 62\t Weight: [9.78486965]\t Bias: [2.89821077]\t Cost: 14.827970547223545\n",
            "Iteration: 63\t Weight: [9.78532607]\t Bias: [2.8953084]\t Cost: 14.827539679499452\n",
            "Iteration: 64\t Weight: [9.78578093]\t Bias: [2.89241595]\t Cost: 14.82711175430643\n",
            "Iteration: 65\t Weight: [9.78623424]\t Bias: [2.88953339]\t Cost: 14.82668675154902\n",
            "Iteration: 66\t Weight: [9.78668599]\t Bias: [2.88666069]\t Cost: 14.826264651269009\n",
            "Iteration: 67\t Weight: [9.7871362]\t Bias: [2.88379782]\t Cost: 14.825845433644444\n",
            "Iteration: 68\t Weight: [9.78758487]\t Bias: [2.88094474]\t Cost: 14.825429078988774\n",
            "Iteration: 69\t Weight: [9.78803201]\t Bias: [2.87810143]\t Cost: 14.825015567749878\n",
            "Iteration: 70\t Weight: [9.78847761]\t Bias: [2.87526783]\t Cost: 14.824604880509188\n",
            "Iteration: 71\t Weight: [9.78892169]\t Bias: [2.87244393]\t Cost: 14.824196997980696\n",
            "Iteration: 72\t Weight: [9.78936426]\t Bias: [2.86962969]\t Cost: 14.823791901010184\n",
            "Iteration: 73\t Weight: [9.78980531]\t Bias: [2.86682507]\t Cost: 14.823389570574173\n",
            "Iteration: 74\t Weight: [9.79024485]\t Bias: [2.86403005]\t Cost: 14.822989987779145\n",
            "Iteration: 75\t Weight: [9.79068288]\t Bias: [2.86124459]\t Cost: 14.822593133860593\n",
            "Iteration: 76\t Weight: [9.79111942]\t Bias: [2.85846865]\t Cost: 14.822198990182152\n",
            "Iteration: 77\t Weight: [9.79155446]\t Bias: [2.85570221]\t Cost: 14.821807538234747\n",
            "Iteration: 78\t Weight: [9.79198802]\t Bias: [2.85294524]\t Cost: 14.821418759635698\n",
            "Iteration: 79\t Weight: [9.7924201]\t Bias: [2.85019769]\t Cost: 14.821032636127887\n",
            "Iteration: 80\t Weight: [9.79285069]\t Bias: [2.84745954]\t Cost: 14.820649149578834\n",
            "Iteration: 81\t Weight: [9.79327981]\t Bias: [2.84473076]\t Cost: 14.820268281979937\n",
            "Iteration: 82\t Weight: [9.79370747]\t Bias: [2.84201131]\t Cost: 14.819890015445559\n",
            "Iteration: 83\t Weight: [9.79413366]\t Bias: [2.83930116]\t Cost: 14.81951433221221\n",
            "Iteration: 84\t Weight: [9.7945584]\t Bias: [2.83660029]\t Cost: 14.819141214637703\n",
            "Iteration: 85\t Weight: [9.79498168]\t Bias: [2.83390865]\t Cost: 14.818770645200377\n",
            "Iteration: 86\t Weight: [9.79540351]\t Bias: [2.83122622]\t Cost: 14.818402606498182\n",
            "Iteration: 87\t Weight: [9.7958239]\t Bias: [2.82855296]\t Cost: 14.818037081247942\n",
            "Iteration: 88\t Weight: [9.79624286]\t Bias: [2.82588885]\t Cost: 14.817674052284493\n",
            "Iteration: 89\t Weight: [9.79666038]\t Bias: [2.82323385]\t Cost: 14.817313502559912\n",
            "Iteration: 90\t Weight: [9.79707647]\t Bias: [2.82058793]\t Cost: 14.816955415142708\n",
            "Iteration: 91\t Weight: [9.79749114]\t Bias: [2.81795106]\t Cost: 14.816599773217\n",
            "Iteration: 92\t Weight: [9.79790439]\t Bias: [2.81532321]\t Cost: 14.816246560081755\n",
            "Iteration: 93\t Weight: [9.79831623]\t Bias: [2.81270435]\t Cost: 14.815895759150004\n",
            "Iteration: 94\t Weight: [9.79872665]\t Bias: [2.81009445]\t Cost: 14.815547353948054\n",
            "Iteration: 95\t Weight: [9.79913568]\t Bias: [2.80749347]\t Cost: 14.81520132811472\n",
            "Iteration: 96\t Weight: [9.7995433]\t Bias: [2.80490139]\t Cost: 14.814857665400533\n",
            "Iteration: 97\t Weight: [9.79994953]\t Bias: [2.80231818]\t Cost: 14.814516349667015\n",
            "Iteration: 98\t Weight: [9.80035438]\t Bias: [2.79974381]\t Cost: 14.814177364885879\n",
            "Iteration: 99\t Weight: [9.80075783]\t Bias: [2.79717824]\t Cost: 14.813840695138357\n",
            "Weight: [9.80075783] Bias: [2.79717824]\n"
          ]
        }
      ]
    },
    {
      "cell_type": "code",
      "source": [
        "w = regressor.weight\n",
        "b = regressor.bias\n",
        "x=[2.5,5.1,3.2,8.5,3.5,1.5,9.2,5.5,8.3,2.7,7.7,5.9,4.5,3.3,1.1,8.9,2.5,1.9,6.1,7.4,2.7,4.8,3.8,6.9,7.8] \n",
        "y=[21,47,27,75,30,20,88,60,81,25,85,62,41,42,17,95,30,24,67,69,30,54,35,76,86]\n",
        "plt.scatter(x,y)\n",
        "axes = plt.gca()\n",
        "x_vals = np.array(axes.get_xlim())\n",
        "y_vals = b + w * x_vals\n",
        "plt.plot(x_vals, y_vals)\n",
        "plt.xlabel('x')\n",
        "plt.ylabel('y')\n",
        "plt.show()"
      ],
      "metadata": {
        "id": "7HZFmjKLZyjl",
        "outputId": "d537bdab-1496-42a0-9aef-4d2e60642cfb",
        "colab": {
          "base_uri": "https://localhost:8080/",
          "height": 280
        }
      },
      "execution_count": null,
      "outputs": [
        {
          "output_type": "display_data",
          "data": {
            "text/plain": [
              "<Figure size 432x288 with 1 Axes>"
            ],
            "image/png": "[encoded data removed]"
          },
          "metadata": {
            "needs_background": "light"
          }
        }
      ]
    }
  ]
}