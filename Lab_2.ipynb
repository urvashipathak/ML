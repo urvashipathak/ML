{
  "nbformat": 4,
  "nbformat_minor": 0,
  "metadata": {
    "colab": {
      "name": "Lab_2.ipynb",
      "provenance": [],
      "authorship_tag": "ABX9TyNAvhSuhF1+qBSzTm+Vgn/y",
      "include_colab_link": true
    },
    "kernelspec": {
      "name": "python3",
      "display_name": "Python 3"
    },
    "language_info": {
      "name": "python"
    }
  },
  "cells": [
    {
      "cell_type": "markdown",
      "metadata": {
        "id": "view-in-github",
        "colab_type": "text"
      },
      "source": [
        "<a href=\"https://colab.research.google.com/github/urvashipathak/ML/blob/main/Lab_2.ipynb\" target=\"_parent\"><img src=\"https://colab.research.google.com/assets/colab-badge.svg\" alt=\"Open In Colab\"/></a>"
      ]
    },
    {
      "cell_type": "markdown",
      "source": [
        "Lab 2: Demonstrate application of Dictionary by taking birthday month as an input and count number of birthdays in particular month by taking month as key . identify max number and minimum number of birthday"
      ],
      "metadata": {
        "id": "HPV4m2oyItMn"
      }
    },
    {
      "cell_type": "code",
      "source": [
        "birthday={\"jan\":0,\"feb\":0,\"mar\":0,\"apr\":0,\"may\":1,\"june\":0,\"july\":0,\"aug\":0,\"sep\":0,\"oct\":0,\"nov\":0,\"dec\":0}\n",
        "while(True):\n",
        "  mon=input()\n",
        "  if mon ==\"\":\n",
        "    break\n",
        "  else:\n",
        "    birthday[mon]=birthday[mon]+1\n",
        "\n",
        "minv=birthday[\"jan\"]\n",
        "for i in birthday.keys():\n",
        "  if birthday[i]<minv:\n",
        "    minv=birthday[i]\n",
        "\n",
        "maxv=birthday[\"jan\"]\n",
        "for i in birthday.keys():\n",
        "  if birthday[i]>maxv:\n",
        "    maxv=birthday[i]\n",
        "\n",
        "print(birthday)\n",
        "print(f\"Minimum no of birthday in a month are {minv} \")\n",
        "print(f\"Maximum no of birthday in a month are {maxv} \")"
      ],
      "metadata": {
        "id": "Tdo0W_RnI0j7"
      },
      "execution_count": null,
      "outputs": []
    }
  ]
}