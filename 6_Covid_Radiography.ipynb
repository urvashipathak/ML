{
  "cells": [
    {
      "cell_type": "markdown",
      "metadata": {
        "id": "view-in-github",
        "colab_type": "text"
      },
      "source": [
        "<a href=\"https://colab.research.google.com/github/urvashipathak/ML/blob/main/6_Covid_Radiography.ipynb\" target=\"_parent\"><img src=\"https://colab.research.google.com/assets/colab-badge.svg\" alt=\"Open In Colab\"/></a>"
      ]
    },
    {
      "cell_type": "code",
      "execution_count": null,
      "metadata": {
        "colab": {
          "base_uri": "https://localhost:8080/"
        },
        "id": "4SCaIRhY44wv",
        "outputId": "54abc88f-c2f6-459c-88fd-3fb3bb6a2a3d"
      },
      "outputs": [
        {
          "output_type": "stream",
          "name": "stdout",
          "text": [
            "Drive already mounted at /content/drive; to attempt to forcibly remount, call drive.mount(\"/content/drive\", force_remount=True).\n"
          ]
        }
      ],
      "source": [
        "from google.colab import drive\n",
        "drive.mount('/content/drive')"
      ]
    },
    {
      "cell_type": "code",
      "execution_count": null,
      "metadata": {
        "colab": {
          "base_uri": "https://localhost:8080/"
        },
        "id": "263jP3sX67jX",
        "outputId": "a8e3c1c7-5fcf-4309-ead7-fc9696111dc2"
      },
      "outputs": [
        {
          "output_type": "stream",
          "name": "stdout",
          "text": [
            "/content/drive/MyDrive\n"
          ]
        }
      ],
      "source": [
        "%cd /content/drive/MyDrive"
      ]
    },
    {
      "cell_type": "code",
      "execution_count": null,
      "metadata": {
        "colab": {
          "base_uri": "https://localhost:8080/"
        },
        "id": "WRmm7CNG_VOC",
        "outputId": "9be4e58b-3ca6-4bd8-f8d6-961dbadbb183"
      },
      "outputs": [
        {
          "output_type": "stream",
          "name": "stdout",
          "text": [
            " 16178749727014456986985512586592.jpg\n",
            " 16178771184991319007604593303214.jpg\n",
            " 161787729111614586703938565840.jpg\n",
            " 16178777667891400210872109987637.jpg\n",
            " 16180383159211491476343439806047.jpg\n",
            "'Aayush Panchal.NPTEL.pdf'\n",
            "'Aayush Panchal.pdf'\n",
            "'Alexa Skill set(Aayush Panchal 0827EC191001).docx'\n",
            "'All students.xlsx'\n",
            " archive.zip\n",
            "'Bajaj Finserv Health - Data Science - Qualifier 1 Challenge - MP Campus Pool (1).gdoc'\n",
            "'Bajaj Finserv Health - Data Science - Qualifier 1 Challenge - MP Campus Pool (1).pdf'\n",
            "'Bajaj Finserv Health - Data Science - Qualifier 1 Challenge - MP Campus Pool.gdoc'\n",
            "'Bajaj Finserv Health - Data Science - Qualifier 1 Challenge - MP Campus Pool.pdf'\n",
            " bank_marketing.csv\n",
            "'Certificate for Aayush Panchal for \"Feedback for: '\\''Emerging Tec...\".pdf'\n",
            "'Certificate for Aayush Panchal for \"Feedback for '\\''Image Enhance...\".pdf'\n",
            "'Certificate for Aayush Panchal for \"National level Online E-Qui...\".png'\n",
            " Classroom\n",
            "'CN assignment 1 and 2 (0827EC191001).pdf'\n",
            "'Colab Notebooks'\n",
            "'Consult Form(0827EC191001).pdf'\n",
            "'Covid '\n",
            " COVID-19_Radiography_Dataset\n",
            " Covid_Radiography.ipynb\n",
            "'CSO Assignment 1(0827EC191001 Aayush Panchal).pdf'\n",
            "'CSO LAB WORK (0827EC191001 Aayush Panchal).pdf'\n",
            "'Data structure labs.docx'\n",
            " diabetes.csv\n",
            " dictionary.ipynb\n",
            " Exp1_pylab.ipynb\n",
            " FUNCTIONS.ipynb\n",
            "'Hackerrank(aayush panchal).pdf'\n",
            " IMG_20210820_131532.jpg\n",
            "'Linear Regression.ipynb'\n",
            "'Linear Regression using package and class.ipynb'\n",
            "'Linux _Lab-CSIT505 File Format.gdoc'\n",
            "'Linux Practical (Aayush Panchal 0827EC191001).docx'\n",
            "'List and comprehension.ipynb'\n",
            " list.ipynb\n",
            " Nueral_network_classification.ipynb\n",
            " Numpy.ipynb\n",
            " Pandas.ipynb\n",
            "'Python assignment(5th sem Aayush Panchal).ipynb'\n",
            "'Research Paper.gdoc'\n",
            " Salary_Data.csv\n",
            " Screenshot_20211004_164527.jpg\n",
            " Screenshot_20211005_162702.jpg\n",
            " Screenshot_2021_1229_173807.png\n",
            "'Skill set link.pdf'\n",
            "'Software Engineering Unit 1(A)  Nisha Rathi.gslides'\n",
            " split\n",
            " statewisetestingsamples.csv\n",
            " Untitled\n",
            " Untitled0.ipynb\n",
            " Untitled1.ipynb\n",
            " Untitled2.ipynb\n",
            " Untitled3.ipynb\n",
            " Untitled4.ipynb\n",
            "'Vaccination certificate.pdf'\n",
            "'VIVA QUESTIONS.docx'\n",
            "'WeeK 3 Lecture Material_watermark (1).gdoc'\n",
            "'WeeK 3 Lecture Material_watermark.gdoc'\n",
            " year_to_second.ipynb\n"
          ]
        }
      ],
      "source": [
        "!ls"
      ]
    },
    {
      "cell_type": "code",
      "execution_count": null,
      "metadata": {
        "colab": {
          "base_uri": "https://localhost:8080/"
        },
        "id": "vHdW7Q--_fNM",
        "outputId": "1b0e5adf-8ed3-4f70-9666-a944104b51c6"
      },
      "outputs": [
        {
          "output_type": "stream",
          "name": "stdout",
          "text": [
            "Archive:  archive.zip\n",
            "replace COVID-19_Radiography_Dataset/COVID.metadata.xlsx? [y]es, [n]o, [A]ll, [N]one, [r]ename: "
          ]
        }
      ],
      "source": [
        "!unzip archive.zip"
      ]
    },
    {
      "cell_type": "code",
      "execution_count": null,
      "metadata": {
        "colab": {
          "base_uri": "https://localhost:8080/"
        },
        "id": "M7OxkZrYB9Qg",
        "outputId": "c632514d-e7e1-4a15-f73b-b1f4eb5255de"
      },
      "outputs": [
        {
          "output_type": "stream",
          "name": "stdout",
          "text": [
            "Collecting split_folders\n",
            "  Downloading split_folders-0.5.1-py3-none-any.whl (8.4 kB)\n",
            "Installing collected packages: split-folders\n",
            "Successfully installed split-folders-0.5.1\n"
          ]
        }
      ],
      "source": [
        "!pip install split_folders"
      ]
    },
    {
      "cell_type": "code",
      "source": [
        "import splitfolders\n",
        "splitfolders.ratio(\"/content/drive/MyDrive/COVID-19_Radiography_Dataset/COVID\", output=\"split\", seed=1337, ratio=(.8, .1, .1), group_prefix=None)"
      ],
      "metadata": {
        "id": "FLR9yHWAHZbQ"
      },
      "execution_count": null,
      "outputs": []
    },
    {
      "cell_type": "code",
      "execution_count": null,
      "metadata": {
        "id": "Bc0oijNUDoYY"
      },
      "outputs": [],
      "source": [
        "from keras.preprocessing.image import ImageDataGenerator\n",
        "\n",
        "# Normalize training and validation data in the range of 0 to 1\n",
        "train_datagen = ImageDataGenerator(rescale=1./255)\n",
        "validation_datagen = ImageDataGenerator(rescale=1./255)\n",
        "test_datagen = ImageDataGenerator(rescale=1./255)\n",
        "\n",
        "# Read the training sample and set the batch size \n",
        "train_generator = train_datagen.flow_from_directory(\n",
        "        'split/train/',\n",
        "        target_size=(128, 128),\n",
        "        batch_size=8,\n",
        "        seed=100,\n",
        "        class_mode='categorical')\n",
        "\n",
        "# Read Validation data from directory and define target size with batch size\n",
        "validation_generator = validation_datagen.flow_from_directory(\n",
        "        'split/val/',\n",
        "        target_size=(128, 128),\n",
        "        batch_size=8,\n",
        "        class_mode='categorical',\n",
        "        seed=1000,\n",
        "        shuffle=False)\n",
        "\n",
        "test_generator = test_datagen.flow_from_directory(\n",
        "        'split/test/',\n",
        "        target_size=(128, 128),\n",
        "        batch_size=8,\n",
        "        seed=500,\n",
        "        class_mode='categorical',\n",
        "        shuffle=False)"
      ]
    },
    {
      "cell_type": "code",
      "execution_count": null,
      "metadata": {
        "colab": {
          "base_uri": "https://localhost:8080/"
        },
        "id": "MJN8DYI1EDM_",
        "outputId": "ec9ad90a-ce7d-4161-d7b4-c9841130bb1b"
      },
      "outputs": [
        {
          "name": "stdout",
          "output_type": "stream",
          "text": [
            "Model: \"model_1\"\n",
            "_________________________________________________________________\n",
            " Layer (type)                Output Shape              Param #   \n",
            "=================================================================\n",
            " input_2 (InputLayer)        [(None, 128, 128, 3)]     0         \n",
            "                                                                 \n",
            " flatten_1 (Flatten)         (None, 49152)             0         \n",
            "                                                                 \n",
            " dense_3 (Dense)             (None, 32)                1572896   \n",
            "                                                                 \n",
            " dense_4 (Dense)             (None, 64)                2112      \n",
            "                                                                 \n",
            " dense_5 (Dense)             (None, 2)                 130       \n",
            "                                                                 \n",
            "=================================================================\n",
            "Total params: 1,575,138\n",
            "Trainable params: 1,575,138\n",
            "Non-trainable params: 0\n",
            "_________________________________________________________________\n"
          ]
        }
      ],
      "source": [
        "from tensorflow import keras\n",
        "from tensorflow.keras import layers\n",
        "inputs = keras.Input(shape=(128, 128,3))\n",
        "x = layers.Flatten()(inputs)\n",
        "x = layers.Dense(32, activation=\"relu\")(x)\n",
        "x = layers.Dense(64, activation='relu')(x)\n",
        "outputs = layers.Dense(2, activation=\"softmax\")(x)\n",
        "model = keras.Model(inputs, outputs)\n",
        "model.summary()"
      ]
    },
    {
      "cell_type": "code",
      "execution_count": null,
      "metadata": {
        "colab": {
          "base_uri": "https://localhost:8080/"
        },
        "id": "Ku3C6Nn1ESYE",
        "outputId": "a829e610-171e-4526-f58e-8a5cc2cdc4b4"
      },
      "outputs": [
        {
          "name": "stdout",
          "output_type": "stream",
          "text": [
            "Requirement already satisfied: tensorflow in /usr/local/lib/python3.7/dist-packages (2.8.0)\n",
            "Requirement already satisfied: six>=1.12.0 in /usr/local/lib/python3.7/dist-packages (from tensorflow) (1.15.0)\n",
            "Requirement already satisfied: grpcio<2.0,>=1.24.3 in /usr/local/lib/python3.7/dist-packages (from tensorflow) (1.44.0)\n",
            "Requirement already satisfied: absl-py>=0.4.0 in /usr/local/lib/python3.7/dist-packages (from tensorflow) (1.0.0)\n",
            "Collecting tf-estimator-nightly==2.8.0.dev2021122109\n",
            "  Downloading tf_estimator_nightly-2.8.0.dev2021122109-py2.py3-none-any.whl (462 kB)\n",
            "\u001b[K     |████████████████████████████████| 462 kB 5.1 MB/s \n",
            "\u001b[?25hRequirement already satisfied: tensorflow-io-gcs-filesystem>=0.23.1 in /usr/local/lib/python3.7/dist-packages (from tensorflow) (0.24.0)\n",
            "Requirement already satisfied: typing-extensions>=3.6.6 in /usr/local/lib/python3.7/dist-packages (from tensorflow) (4.1.1)\n",
            "Requirement already satisfied: opt-einsum>=2.3.2 in /usr/local/lib/python3.7/dist-packages (from tensorflow) (3.3.0)\n",
            "Requirement already satisfied: astunparse>=1.6.0 in /usr/local/lib/python3.7/dist-packages (from tensorflow) (1.6.3)\n",
            "Requirement already satisfied: protobuf>=3.9.2 in /usr/local/lib/python3.7/dist-packages (from tensorflow) (3.17.3)\n",
            "Requirement already satisfied: numpy>=1.20 in /usr/local/lib/python3.7/dist-packages (from tensorflow) (1.21.5)\n",
            "Requirement already satisfied: tensorboard<2.9,>=2.8 in /usr/local/lib/python3.7/dist-packages (from tensorflow) (2.8.0)\n",
            "Requirement already satisfied: libclang>=9.0.1 in /usr/local/lib/python3.7/dist-packages (from tensorflow) (13.0.0)\n",
            "Requirement already satisfied: termcolor>=1.1.0 in /usr/local/lib/python3.7/dist-packages (from tensorflow) (1.1.0)\n",
            "Requirement already satisfied: wrapt>=1.11.0 in /usr/local/lib/python3.7/dist-packages (from tensorflow) (1.14.0)\n",
            "Requirement already satisfied: h5py>=2.9.0 in /usr/local/lib/python3.7/dist-packages (from tensorflow) (3.1.0)\n",
            "Requirement already satisfied: setuptools in /usr/local/lib/python3.7/dist-packages (from tensorflow) (57.4.0)\n",
            "Requirement already satisfied: keras<2.9,>=2.8.0rc0 in /usr/local/lib/python3.7/dist-packages (from tensorflow) (2.8.0)\n",
            "Requirement already satisfied: keras-preprocessing>=1.1.1 in /usr/local/lib/python3.7/dist-packages (from tensorflow) (1.1.2)\n",
            "Requirement already satisfied: flatbuffers>=1.12 in /usr/local/lib/python3.7/dist-packages (from tensorflow) (2.0)\n",
            "Requirement already satisfied: google-pasta>=0.1.1 in /usr/local/lib/python3.7/dist-packages (from tensorflow) (0.2.0)\n",
            "Requirement already satisfied: gast>=0.2.1 in /usr/local/lib/python3.7/dist-packages (from tensorflow) (0.5.3)\n",
            "Requirement already satisfied: wheel<1.0,>=0.23.0 in /usr/local/lib/python3.7/dist-packages (from astunparse>=1.6.0->tensorflow) (0.37.1)\n",
            "Requirement already satisfied: cached-property in /usr/local/lib/python3.7/dist-packages (from h5py>=2.9.0->tensorflow) (1.5.2)\n",
            "Requirement already satisfied: requests<3,>=2.21.0 in /usr/local/lib/python3.7/dist-packages (from tensorboard<2.9,>=2.8->tensorflow) (2.23.0)\n",
            "Requirement already satisfied: werkzeug>=0.11.15 in /usr/local/lib/python3.7/dist-packages (from tensorboard<2.9,>=2.8->tensorflow) (1.0.1)\n",
            "Requirement already satisfied: tensorboard-plugin-wit>=1.6.0 in /usr/local/lib/python3.7/dist-packages (from tensorboard<2.9,>=2.8->tensorflow) (1.8.1)\n",
            "Requirement already satisfied: google-auth-oauthlib<0.5,>=0.4.1 in /usr/local/lib/python3.7/dist-packages (from tensorboard<2.9,>=2.8->tensorflow) (0.4.6)\n",
            "Requirement already satisfied: markdown>=2.6.8 in /usr/local/lib/python3.7/dist-packages (from tensorboard<2.9,>=2.8->tensorflow) (3.3.6)\n",
            "Requirement already satisfied: tensorboard-data-server<0.7.0,>=0.6.0 in /usr/local/lib/python3.7/dist-packages (from tensorboard<2.9,>=2.8->tensorflow) (0.6.1)\n",
            "Requirement already satisfied: google-auth<3,>=1.6.3 in /usr/local/lib/python3.7/dist-packages (from tensorboard<2.9,>=2.8->tensorflow) (1.35.0)\n",
            "Requirement already satisfied: pyasn1-modules>=0.2.1 in /usr/local/lib/python3.7/dist-packages (from google-auth<3,>=1.6.3->tensorboard<2.9,>=2.8->tensorflow) (0.2.8)\n",
            "Requirement already satisfied: rsa<5,>=3.1.4 in /usr/local/lib/python3.7/dist-packages (from google-auth<3,>=1.6.3->tensorboard<2.9,>=2.8->tensorflow) (4.8)\n",
            "Requirement already satisfied: cachetools<5.0,>=2.0.0 in /usr/local/lib/python3.7/dist-packages (from google-auth<3,>=1.6.3->tensorboard<2.9,>=2.8->tensorflow) (4.2.4)\n",
            "Requirement already satisfied: requests-oauthlib>=0.7.0 in /usr/local/lib/python3.7/dist-packages (from google-auth-oauthlib<0.5,>=0.4.1->tensorboard<2.9,>=2.8->tensorflow) (1.3.1)\n",
            "Requirement already satisfied: importlib-metadata>=4.4 in /usr/local/lib/python3.7/dist-packages (from markdown>=2.6.8->tensorboard<2.9,>=2.8->tensorflow) (4.11.3)\n",
            "Requirement already satisfied: zipp>=0.5 in /usr/local/lib/python3.7/dist-packages (from importlib-metadata>=4.4->markdown>=2.6.8->tensorboard<2.9,>=2.8->tensorflow) (3.8.0)\n",
            "Requirement already satisfied: pyasn1<0.5.0,>=0.4.6 in /usr/local/lib/python3.7/dist-packages (from pyasn1-modules>=0.2.1->google-auth<3,>=1.6.3->tensorboard<2.9,>=2.8->tensorflow) (0.4.8)\n",
            "Requirement already satisfied: idna<3,>=2.5 in /usr/local/lib/python3.7/dist-packages (from requests<3,>=2.21.0->tensorboard<2.9,>=2.8->tensorflow) (2.10)\n",
            "Requirement already satisfied: urllib3!=1.25.0,!=1.25.1,<1.26,>=1.21.1 in /usr/local/lib/python3.7/dist-packages (from requests<3,>=2.21.0->tensorboard<2.9,>=2.8->tensorflow) (1.24.3)\n",
            "Requirement already satisfied: chardet<4,>=3.0.2 in /usr/local/lib/python3.7/dist-packages (from requests<3,>=2.21.0->tensorboard<2.9,>=2.8->tensorflow) (3.0.4)\n",
            "Requirement already satisfied: certifi>=2017.4.17 in /usr/local/lib/python3.7/dist-packages (from requests<3,>=2.21.0->tensorboard<2.9,>=2.8->tensorflow) (2021.10.8)\n",
            "Requirement already satisfied: oauthlib>=3.0.0 in /usr/local/lib/python3.7/dist-packages (from requests-oauthlib>=0.7.0->google-auth-oauthlib<0.5,>=0.4.1->tensorboard<2.9,>=2.8->tensorflow) (3.2.0)\n",
            "Installing collected packages: tf-estimator-nightly\n",
            "Successfully installed tf-estimator-nightly-2.8.0.dev2021122109\n"
          ]
        }
      ],
      "source": [
        "! pip install tensorflow"
      ]
    },
    {
      "cell_type": "code",
      "execution_count": null,
      "metadata": {
        "colab": {
          "background_save": true,
          "base_uri": "https://localhost:8080/"
        },
        "id": "GJFDixb2EkPC",
        "outputId": "b1945708-b4ef-450e-88d6-5fbcfdd10c0c"
      },
      "outputs": [
        {
          "name": "stdout",
          "output_type": "stream",
          "text": [
            "Epoch 1/100\n",
            "723/723 [==============================] - 33s 45ms/step - loss: 0.0153 - acc: 0.9946 - val_loss: 0.0033 - val_acc: 0.9986\n",
            "Epoch 2/100\n",
            "723/723 [==============================] - 33s 46ms/step - loss: 0.0039 - acc: 0.9991 - val_loss: 0.0025 - val_acc: 0.9986\n",
            "Epoch 3/100\n",
            "723/723 [==============================] - 31s 43ms/step - loss: 0.0022 - acc: 0.9995 - val_loss: 5.0159e-05 - val_acc: 1.0000\n",
            "Epoch 4/100\n",
            "723/723 [==============================] - 33s 46ms/step - loss: 4.3380e-04 - acc: 0.9998 - val_loss: 1.5907e-04 - val_acc: 1.0000\n",
            "Epoch 5/100\n",
            "723/723 [==============================] - 36s 50ms/step - loss: 3.9957e-05 - acc: 1.0000 - val_loss: 1.3944e-04 - val_acc: 1.0000\n",
            "Epoch 6/100\n",
            "723/723 [==============================] - 32s 45ms/step - loss: 2.2304e-05 - acc: 1.0000 - val_loss: 1.1393e-04 - val_acc: 1.0000\n",
            "Epoch 7/100\n",
            "723/723 [==============================] - 34s 46ms/step - loss: 1.5847e-05 - acc: 1.0000 - val_loss: 1.0013e-04 - val_acc: 1.0000\n",
            "Epoch 8/100\n",
            "723/723 [==============================] - 39s 54ms/step - loss: 1.1731e-05 - acc: 1.0000 - val_loss: 8.5852e-05 - val_acc: 1.0000\n",
            "Epoch 9/100\n",
            "723/723 [==============================] - 33s 45ms/step - loss: 8.9266e-06 - acc: 1.0000 - val_loss: 9.7278e-05 - val_acc: 1.0000\n",
            "Epoch 10/100\n",
            "723/723 [==============================] - 32s 44ms/step - loss: 6.1445e-06 - acc: 1.0000 - val_loss: 8.1356e-05 - val_acc: 1.0000\n",
            "Epoch 11/100\n",
            "723/723 [==============================] - 32s 45ms/step - loss: 4.2763e-06 - acc: 1.0000 - val_loss: 6.7537e-05 - val_acc: 1.0000\n",
            "Epoch 12/100\n",
            "723/723 [==============================] - 35s 49ms/step - loss: 2.9811e-06 - acc: 1.0000 - val_loss: 5.7376e-05 - val_acc: 1.0000\n",
            "Epoch 13/100\n",
            "723/723 [==============================] - 33s 46ms/step - loss: 2.2389e-06 - acc: 1.0000 - val_loss: 6.5028e-05 - val_acc: 1.0000\n",
            "Epoch 14/100\n",
            "723/723 [==============================] - 33s 45ms/step - loss: 1.5087e-06 - acc: 1.0000 - val_loss: 5.3100e-05 - val_acc: 1.0000\n",
            "Epoch 15/100\n",
            "723/723 [==============================] - 36s 49ms/step - loss: 1.0124e-06 - acc: 1.0000 - val_loss: 4.0344e-05 - val_acc: 1.0000\n",
            "Epoch 16/100\n",
            "723/723 [==============================] - 35s 48ms/step - loss: 7.0391e-07 - acc: 1.0000 - val_loss: 4.1524e-05 - val_acc: 1.0000\n",
            "Epoch 17/100\n",
            "723/723 [==============================] - 32s 44ms/step - loss: 4.9141e-07 - acc: 1.0000 - val_loss: 2.7912e-05 - val_acc: 1.0000\n",
            "Epoch 18/100\n",
            "723/723 [==============================] - 31s 43ms/step - loss: 3.2955e-07 - acc: 1.0000 - val_loss: 2.2053e-05 - val_acc: 1.0000\n",
            "Epoch 19/100\n",
            "723/723 [==============================] - 31s 43ms/step - loss: 2.2267e-07 - acc: 1.0000 - val_loss: 1.8561e-05 - val_acc: 1.0000\n",
            "Epoch 20/100\n",
            "723/723 [==============================] - 31s 43ms/step - loss: 1.5665e-07 - acc: 1.0000 - val_loss: 2.4129e-05 - val_acc: 1.0000\n",
            "Epoch 21/100\n",
            "723/723 [==============================] - 34s 47ms/step - loss: 9.4802e-08 - acc: 1.0000 - val_loss: 1.9657e-05 - val_acc: 1.0000\n",
            "Epoch 22/100\n",
            "723/723 [==============================] - 34s 46ms/step - loss: 6.5580e-08 - acc: 1.0000 - val_loss: 1.2294e-05 - val_acc: 1.0000\n",
            "Epoch 23/100\n",
            "723/723 [==============================] - 31s 42ms/step - loss: 4.8948e-08 - acc: 1.0000 - val_loss: 1.2324e-05 - val_acc: 1.0000\n",
            "Epoch 24/100\n",
            "723/723 [==============================] - 30s 42ms/step - loss: 3.5985e-08 - acc: 1.0000 - val_loss: 1.2160e-05 - val_acc: 1.0000\n",
            "Epoch 25/100\n",
            "723/723 [==============================] - 31s 42ms/step - loss: 2.3743e-08 - acc: 1.0000 - val_loss: 1.0084e-05 - val_acc: 1.0000\n",
            "Epoch 26/100\n",
            "723/723 [==============================] - 30s 42ms/step - loss: 1.6509e-08 - acc: 1.0000 - val_loss: 6.8773e-06 - val_acc: 1.0000\n",
            "Epoch 27/100\n",
            "723/723 [==============================] - 30s 42ms/step - loss: 1.2016e-08 - acc: 1.0000 - val_loss: 9.6191e-06 - val_acc: 1.0000\n",
            "Epoch 28/100\n",
            "723/723 [==============================] - 30s 42ms/step - loss: 8.9860e-09 - acc: 1.0000 - val_loss: 6.0465e-06 - val_acc: 1.0000\n",
            "Epoch 29/100\n",
            "723/723 [==============================] - 30s 41ms/step - loss: 6.5540e-09 - acc: 1.0000 - val_loss: 7.8733e-06 - val_acc: 1.0000\n",
            "Epoch 30/100\n",
            "723/723 [==============================] - 30s 42ms/step - loss: 4.5136e-09 - acc: 1.0000 - val_loss: 6.1785e-06 - val_acc: 1.0000\n",
            "Epoch 31/100\n",
            "723/723 [==============================] - 30s 41ms/step - loss: 3.5243e-09 - acc: 1.0000 - val_loss: 6.1570e-06 - val_acc: 1.0000\n",
            "Epoch 32/100\n",
            "723/723 [==============================] - 30s 41ms/step - loss: 2.6175e-09 - acc: 1.0000 - val_loss: 6.2379e-06 - val_acc: 1.0000\n",
            "Epoch 33/100\n",
            "723/723 [==============================] - 30s 42ms/step - loss: 1.9992e-09 - acc: 1.0000 - val_loss: 6.3846e-06 - val_acc: 1.0000\n",
            "Epoch 34/100\n",
            "723/723 [==============================] - 31s 43ms/step - loss: 1.6488e-09 - acc: 1.0000 - val_loss: 4.8366e-06 - val_acc: 1.0000\n",
            "Epoch 35/100\n",
            "723/723 [==============================] - 32s 44ms/step - loss: 1.2572e-09 - acc: 1.0000 - val_loss: 4.5040e-06 - val_acc: 1.0000\n",
            "Epoch 36/100\n",
            "723/723 [==============================] - 32s 44ms/step - loss: 9.0685e-10 - acc: 1.0000 - val_loss: 4.5902e-06 - val_acc: 1.0000\n",
            "Epoch 37/100\n",
            "723/723 [==============================] - 31s 43ms/step - loss: 7.4197e-10 - acc: 1.0000 - val_loss: 3.6290e-06 - val_acc: 1.0000\n",
            "Epoch 38/100\n",
            "723/723 [==============================] - 31s 42ms/step - loss: 5.1525e-10 - acc: 1.0000 - val_loss: 3.3117e-06 - val_acc: 1.0000\n",
            "Epoch 39/100\n",
            "723/723 [==============================] - 31s 42ms/step - loss: 4.7403e-10 - acc: 1.0000 - val_loss: 2.8037e-06 - val_acc: 1.0000\n",
            "Epoch 40/100\n",
            "723/723 [==============================] - 31s 42ms/step - loss: 3.7098e-10 - acc: 1.0000 - val_loss: 2.9637e-06 - val_acc: 1.0000\n",
            "Epoch 41/100\n",
            "723/723 [==============================] - 32s 44ms/step - loss: 2.8854e-10 - acc: 1.0000 - val_loss: 2.4798e-06 - val_acc: 1.0000\n",
            "Epoch 42/100\n",
            "723/723 [==============================] - 31s 43ms/step - loss: 2.4732e-10 - acc: 1.0000 - val_loss: 2.3792e-06 - val_acc: 1.0000\n",
            "Epoch 43/100\n",
            "723/723 [==============================] - 31s 43ms/step - loss: 2.2671e-10 - acc: 1.0000 - val_loss: 2.1121e-06 - val_acc: 1.0000\n",
            "Epoch 44/100\n",
            "723/723 [==============================] - 31s 43ms/step - loss: 1.6488e-10 - acc: 1.0000 - val_loss: 2.2908e-06 - val_acc: 1.0000\n",
            "Epoch 45/100\n",
            "723/723 [==============================] - 30s 42ms/step - loss: 1.2366e-10 - acc: 1.0000 - val_loss: 2.1222e-06 - val_acc: 1.0000\n",
            "Epoch 46/100\n",
            "723/723 [==============================] - 30s 42ms/step - loss: 1.2366e-10 - acc: 1.0000 - val_loss: 2.0902e-06 - val_acc: 1.0000\n",
            "Epoch 47/100\n",
            "723/723 [==============================] - 30s 42ms/step - loss: 8.2441e-11 - acc: 1.0000 - val_loss: 2.1090e-06 - val_acc: 1.0000\n",
            "Epoch 48/100\n",
            "723/723 [==============================] - 30s 42ms/step - loss: 8.2441e-11 - acc: 1.0000 - val_loss: 2.1133e-06 - val_acc: 1.0000\n",
            "Epoch 49/100\n",
            "723/723 [==============================] - 30s 42ms/step - loss: 6.1831e-11 - acc: 1.0000 - val_loss: 1.9327e-06 - val_acc: 1.0000\n",
            "Epoch 50/100\n",
            "723/723 [==============================] - 30s 42ms/step - loss: 6.1831e-11 - acc: 1.0000 - val_loss: 1.9091e-06 - val_acc: 1.0000\n",
            "Epoch 51/100\n",
            "723/723 [==============================] - 31s 42ms/step - loss: 6.1831e-11 - acc: 1.0000 - val_loss: 1.8994e-06 - val_acc: 1.0000\n",
            "Epoch 52/100\n",
            "723/723 [==============================] - 30s 42ms/step - loss: 6.1831e-11 - acc: 1.0000 - val_loss: 1.8247e-06 - val_acc: 1.0000\n",
            "Epoch 53/100\n",
            "723/723 [==============================] - 30s 42ms/step - loss: 4.1220e-11 - acc: 1.0000 - val_loss: 1.7289e-06 - val_acc: 1.0000\n",
            "Epoch 54/100\n",
            "723/723 [==============================] - 31s 42ms/step - loss: 6.1831e-11 - acc: 1.0000 - val_loss: 1.7851e-06 - val_acc: 1.0000\n",
            "Epoch 55/100\n",
            "723/723 [==============================] - 30s 42ms/step - loss: 4.1220e-11 - acc: 1.0000 - val_loss: 1.7500e-06 - val_acc: 1.0000\n",
            "Epoch 56/100\n",
            "723/723 [==============================] - 30s 42ms/step - loss: 4.1220e-11 - acc: 1.0000 - val_loss: 1.6230e-06 - val_acc: 1.0000\n",
            "Epoch 57/100\n",
            "723/723 [==============================] - 30s 41ms/step - loss: 4.1220e-11 - acc: 1.0000 - val_loss: 1.5734e-06 - val_acc: 1.0000\n",
            "Epoch 58/100\n",
            "723/723 [==============================] - 30s 42ms/step - loss: 4.1220e-11 - acc: 1.0000 - val_loss: 1.5386e-06 - val_acc: 1.0000\n",
            "Epoch 59/100\n",
            "723/723 [==============================] - 29s 41ms/step - loss: 4.1220e-11 - acc: 1.0000 - val_loss: 1.5013e-06 - val_acc: 1.0000\n",
            "Epoch 60/100\n",
            "723/723 [==============================] - 30s 42ms/step - loss: 4.1220e-11 - acc: 1.0000 - val_loss: 1.5131e-06 - val_acc: 1.0000\n",
            "Epoch 61/100\n",
            "723/723 [==============================] - 29s 41ms/step - loss: 4.1220e-11 - acc: 1.0000 - val_loss: 1.4708e-06 - val_acc: 1.0000\n",
            "Epoch 62/100\n",
            "723/723 [==============================] - 30s 41ms/step - loss: 4.1220e-11 - acc: 1.0000 - val_loss: 1.4383e-06 - val_acc: 1.0000\n",
            "Epoch 63/100\n",
            "723/723 [==============================] - 30s 42ms/step - loss: 4.1220e-11 - acc: 1.0000 - val_loss: 1.4241e-06 - val_acc: 1.0000\n",
            "Epoch 64/100\n",
            "723/723 [==============================] - 31s 42ms/step - loss: 2.0610e-11 - acc: 1.0000 - val_loss: 1.3738e-06 - val_acc: 1.0000\n",
            "Epoch 65/100\n",
            "723/723 [==============================] - 31s 43ms/step - loss: 2.0610e-11 - acc: 1.0000 - val_loss: 1.3503e-06 - val_acc: 1.0000\n",
            "Epoch 66/100\n",
            "723/723 [==============================] - 31s 42ms/step - loss: 2.0610e-11 - acc: 1.0000 - val_loss: 1.3076e-06 - val_acc: 1.0000\n",
            "Epoch 67/100\n",
            "723/723 [==============================] - 31s 43ms/step - loss: 2.0610e-11 - acc: 1.0000 - val_loss: 1.2815e-06 - val_acc: 1.0000\n",
            "Epoch 68/100\n",
            "723/723 [==============================] - 30s 42ms/step - loss: 2.0610e-11 - acc: 1.0000 - val_loss: 1.2639e-06 - val_acc: 1.0000\n",
            "Epoch 69/100\n",
            "723/723 [==============================] - 31s 42ms/step - loss: 2.0610e-11 - acc: 1.0000 - val_loss: 1.2401e-06 - val_acc: 1.0000\n",
            "Epoch 70/100\n",
            "723/723 [==============================] - 30s 42ms/step - loss: 2.0610e-11 - acc: 1.0000 - val_loss: 1.2215e-06 - val_acc: 1.0000\n",
            "Epoch 71/100\n",
            "723/723 [==============================] - 31s 42ms/step - loss: 2.0610e-11 - acc: 1.0000 - val_loss: 1.2118e-06 - val_acc: 1.0000\n",
            "Epoch 72/100\n",
            "723/723 [==============================] - 31s 43ms/step - loss: 2.0610e-11 - acc: 1.0000 - val_loss: 1.1913e-06 - val_acc: 1.0000\n",
            "Epoch 73/100\n",
            "723/723 [==============================] - 30s 42ms/step - loss: 2.0610e-11 - acc: 1.0000 - val_loss: 1.1809e-06 - val_acc: 1.0000\n",
            "Epoch 74/100\n",
            "723/723 [==============================] - 33s 46ms/step - loss: 2.0610e-11 - acc: 1.0000 - val_loss: 1.1672e-06 - val_acc: 1.0000\n",
            "Epoch 75/100\n",
            "723/723 [==============================] - 30s 41ms/step - loss: 2.0610e-11 - acc: 1.0000 - val_loss: 1.1694e-06 - val_acc: 1.0000\n",
            "Epoch 76/100\n",
            "723/723 [==============================] - 30s 41ms/step - loss: 2.0610e-11 - acc: 1.0000 - val_loss: 1.1482e-06 - val_acc: 1.0000\n",
            "Epoch 77/100\n",
            "723/723 [==============================] - 30s 42ms/step - loss: 2.0610e-11 - acc: 1.0000 - val_loss: 1.1430e-06 - val_acc: 1.0000\n",
            "Epoch 78/100\n",
            "723/723 [==============================] - 30s 42ms/step - loss: 2.0610e-11 - acc: 1.0000 - val_loss: 1.1301e-06 - val_acc: 1.0000\n",
            "Epoch 79/100\n",
            "723/723 [==============================] - 30s 42ms/step - loss: 2.0610e-11 - acc: 1.0000 - val_loss: 1.1350e-06 - val_acc: 1.0000\n",
            "Epoch 80/100\n",
            "723/723 [==============================] - 30s 42ms/step - loss: 2.0610e-11 - acc: 1.0000 - val_loss: 1.1260e-06 - val_acc: 1.0000\n",
            "Epoch 81/100\n",
            "723/723 [==============================] - 31s 43ms/step - loss: 2.0610e-11 - acc: 1.0000 - val_loss: 1.1131e-06 - val_acc: 1.0000\n",
            "Epoch 82/100\n",
            "723/723 [==============================] - 31s 42ms/step - loss: 2.0610e-11 - acc: 1.0000 - val_loss: 1.1090e-06 - val_acc: 1.0000\n",
            "Epoch 83/100\n",
            "723/723 [==============================] - 31s 43ms/step - loss: 2.0610e-11 - acc: 1.0000 - val_loss: 1.0961e-06 - val_acc: 1.0000\n",
            "Epoch 84/100\n",
            "723/723 [==============================] - 34s 46ms/step - loss: 2.0610e-11 - acc: 1.0000 - val_loss: 1.0824e-06 - val_acc: 1.0000\n",
            "Epoch 85/100\n",
            "723/723 [==============================] - 32s 44ms/step - loss: 2.0610e-11 - acc: 1.0000 - val_loss: 1.0756e-06 - val_acc: 1.0000\n",
            "Epoch 86/100\n",
            "723/723 [==============================] - 31s 43ms/step - loss: 2.0610e-11 - acc: 1.0000 - val_loss: 1.0621e-06 - val_acc: 1.0000\n",
            "Epoch 87/100\n",
            "723/723 [==============================] - 31s 43ms/step - loss: 2.0610e-11 - acc: 1.0000 - val_loss: 1.0572e-06 - val_acc: 1.0000\n",
            "Epoch 88/100\n",
            "723/723 [==============================] - 31s 43ms/step - loss: 2.0610e-11 - acc: 1.0000 - val_loss: 1.0565e-06 - val_acc: 1.0000\n",
            "Epoch 89/100\n",
            "723/723 [==============================] - 31s 43ms/step - loss: 2.0610e-11 - acc: 1.0000 - val_loss: 1.0456e-06 - val_acc: 1.0000\n",
            "Epoch 90/100\n",
            "723/723 [==============================] - 34s 47ms/step - loss: 2.0610e-11 - acc: 1.0000 - val_loss: 1.0372e-06 - val_acc: 1.0000\n",
            "Epoch 91/100\n",
            "723/723 [==============================] - 33s 46ms/step - loss: 2.0610e-11 - acc: 1.0000 - val_loss: 1.0271e-06 - val_acc: 1.0000\n",
            "Epoch 92/100\n",
            "723/723 [==============================] - 33s 45ms/step - loss: 2.0610e-11 - acc: 1.0000 - val_loss: 1.0126e-06 - val_acc: 1.0000\n",
            "Epoch 93/100\n",
            "723/723 [==============================] - 32s 44ms/step - loss: 2.0610e-11 - acc: 1.0000 - val_loss: 1.0158e-06 - val_acc: 1.0000\n",
            "Epoch 94/100\n",
            "723/723 [==============================] - 32s 44ms/step - loss: 2.0610e-11 - acc: 1.0000 - val_loss: 1.0026e-06 - val_acc: 1.0000\n",
            "Epoch 95/100\n",
            "723/723 [==============================] - 32s 45ms/step - loss: 2.0610e-11 - acc: 1.0000 - val_loss: 1.0040e-06 - val_acc: 1.0000\n",
            "Epoch 96/100\n",
            "723/723 [==============================] - 32s 44ms/step - loss: 2.0610e-11 - acc: 1.0000 - val_loss: 9.8506e-07 - val_acc: 1.0000\n",
            "Epoch 97/100\n",
            "723/723 [==============================] - 32s 44ms/step - loss: 2.0610e-11 - acc: 1.0000 - val_loss: 9.7961e-07 - val_acc: 1.0000\n",
            "Epoch 98/100\n",
            "723/723 [==============================] - 32s 45ms/step - loss: 2.0610e-11 - acc: 1.0000 - val_loss: 9.7565e-07 - val_acc: 1.0000\n",
            "Epoch 99/100\n",
            "723/723 [==============================] - 32s 44ms/step - loss: 2.0610e-11 - acc: 1.0000 - val_loss: 9.6790e-07 - val_acc: 1.0000\n",
            "Epoch 100/100\n",
            "723/723 [==============================] - 32s 44ms/step - loss: 2.0610e-11 - acc: 1.0000 - val_loss: 9.7004e-07 - val_acc: 1.0000\n"
          ]
        }
      ],
      "source": [
        "from tensorflow.keras.optimizers import Adam\n",
        "\n",
        "adam = Adam(learning_rate=0.0001)\n",
        "# We are going to use accuracy metrics and cross entropy loss as performance parameters\n",
        "model.compile(adam, loss='categorical_crossentropy', metrics=['acc'])\n",
        "# Train the model \n",
        "history = model.fit(train_generator, \n",
        "      steps_per_epoch=train_generator.samples/train_generator.batch_size,\n",
        "      epochs=100,\n",
        "      validation_data=validation_generator,\n",
        "      validation_steps=validation_generator.samples/validation_generator.batch_size,verbose=1)"
      ]
    },
    {
      "cell_type": "code",
      "source": [
        "model.save('covid_classification.h5')"
      ],
      "metadata": {
        "id": "KWEgi41iGLpU"
      },
      "execution_count": null,
      "outputs": []
    },
    {
      "cell_type": "code",
      "source": [
        "from tensorflow.keras import models\n",
        "model = models.load_model('covid_classification.h5')"
      ],
      "metadata": {
        "id": "-h10oYV6FI6P"
      },
      "execution_count": null,
      "outputs": []
    },
    {
      "cell_type": "code",
      "source": [
        "model.save_weights('covid_classification_weights.h5')"
      ],
      "metadata": {
        "id": "WJoN4IXeFKxb"
      },
      "execution_count": null,
      "outputs": []
    },
    {
      "cell_type": "code",
      "source": [
        "model.load_weights('covid_classification_weights.h5')"
      ],
      "metadata": {
        "id": "6Q4fgQGFFQyS"
      },
      "execution_count": null,
      "outputs": []
    },
    {
      "cell_type": "code",
      "source": [
        "train_acc = history.history['acc']\n",
        "val_acc = history.history['val_acc']\n",
        "train_loss = history.history['loss']\n",
        "val_loss = history.history['val_loss']"
      ],
      "metadata": {
        "id": "mlsrPfbIFqDT"
      },
      "execution_count": null,
      "outputs": []
    },
    {
      "cell_type": "code",
      "source": [
        "import matplotlib.pyplot as plt\n",
        "epochs = range(len(train_acc)) \n",
        "plt.plot(epochs, train_acc, 'b', label='Training Accuracy')\n",
        "plt.plot(epochs, val_acc, 'r', label='Validation Accuracy')\n",
        "plt.title('Training and Validation Accuracy')\n",
        "plt.legend()\n",
        "plt.figure()\n",
        "plt.show()\n",
        "\n",
        "plt.plot(epochs, train_loss, 'b', label='Training Loss')\n",
        "plt.plot(epochs, val_loss, 'r', label='Validation Loss')\n",
        "plt.title('Training and Validation Loss')\n",
        "plt.legend()\n",
        "plt.show()"
      ],
      "metadata": {
        "id": "veX0uUfYF1Pl"
      },
      "execution_count": null,
      "outputs": []
    },
    {
      "cell_type": "code",
      "source": [
        "test_output= model.evaluate(test_generator, steps=test_generator.samples/test_generator.batch_size, verbose=1)\n",
        "print(test_output)\n",
        "print(model.metrics_names)"
      ],
      "metadata": {
        "id": "Lfpr-SBiF6Oe"
      },
      "execution_count": null,
      "outputs": []
    }
  ],
  "metadata": {
    "colab": {
      "name": "Covid_Radiography.ipynb",
      "provenance": [],
      "include_colab_link": true
    },
    "kernelspec": {
      "display_name": "Python 3",
      "name": "python3"
    },
    "language_info": {
      "name": "python"
    }
  },
  "nbformat": 4,
  "nbformat_minor": 0
}