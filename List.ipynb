{
  "nbformat": 4,
  "nbformat_minor": 0,
  "metadata": {
    "colab": {
      "name": "List.ipynb",
      "provenance": [],
      "authorship_tag": "ABX9TyNAUfvreYlMfbW/TtwQRPdF",
      "include_colab_link": true
    },
    "kernelspec": {
      "name": "python3",
      "display_name": "Python 3"
    },
    "language_info": {
      "name": "python"
    }
  },
  "cells": [
    {
      "cell_type": "markdown",
      "metadata": {
        "id": "view-in-github",
        "colab_type": "text"
      },
      "source": [
        "<a href=\"https://colab.research.google.com/github/urvashipathak/ML/blob/main/List.ipynb\" target=\"_parent\"><img src=\"https://colab.research.google.com/assets/colab-badge.svg\" alt=\"Open In Colab\"/></a>"
      ]
    },
    {
      "cell_type": "code",
      "source": [
        "li=[1,2,3,4,5]\n",
        "print(li)"
      ],
      "metadata": {
        "colab": {
          "base_uri": "https://localhost:8080/"
        },
        "id": "IpnJACPcKx52",
        "outputId": "d1882046-19f6-4d76-bb0a-8b072b4c2cb4"
      },
      "execution_count": 8,
      "outputs": [
        {
          "output_type": "stream",
          "name": "stdout",
          "text": [
            "[1, 2, 3, 4, 5]\n"
          ]
        }
      ]
    },
    {
      "cell_type": "code",
      "source": [
        "li=[5,7,1,9,3,5]\n",
        "li.sort()\n",
        "print(li)"
      ],
      "metadata": {
        "colab": {
          "base_uri": "https://localhost:8080/"
        },
        "id": "052gRDkvK150",
        "outputId": "0cf41caf-ec3b-4ef3-9bc3-e3966a7f1cea"
      },
      "execution_count": 9,
      "outputs": [
        {
          "output_type": "stream",
          "name": "stdout",
          "text": [
            "[1, 3, 5, 5, 7, 9]\n"
          ]
        }
      ]
    },
    {
      "cell_type": "code",
      "source": [
        "li=[5,7,1,9,3,5]\n",
        "print(sorted(li))"
      ],
      "metadata": {
        "colab": {
          "base_uri": "https://localhost:8080/"
        },
        "id": "BoMqrHDFK6Xl",
        "outputId": "55995c91-89de-4232-eef1-10fd0f144b46"
      },
      "execution_count": 10,
      "outputs": [
        {
          "output_type": "stream",
          "name": "stdout",
          "text": [
            "[1, 3, 5, 5, 7, 9]\n"
          ]
        }
      ]
    },
    {
      "cell_type": "code",
      "source": [
        "li.append(\"urvashi\")\n",
        "print(li)"
      ],
      "metadata": {
        "colab": {
          "base_uri": "https://localhost:8080/"
        },
        "id": "5QZzRqA2K8kt",
        "outputId": "38bcd510-64bd-45dd-aea8-969f6b9d1e3b"
      },
      "execution_count": 11,
      "outputs": [
        {
          "output_type": "stream",
          "name": "stdout",
          "text": [
            "[5, 7, 1, 9, 3, 5, 'urvashi']\n"
          ]
        }
      ]
    },
    {
      "cell_type": "code",
      "source": [
        "print(li[0])\n",
        "li=[\"0827CI191060\",\"Urvashi\",6,56,90]\n",
        "print(li)"
      ],
      "metadata": {
        "colab": {
          "base_uri": "https://localhost:8080/"
        },
        "id": "4n3I5quUK_3t",
        "outputId": "a60c6ef7-a41f-45d8-c339-9c83ed130cca"
      },
      "execution_count": 12,
      "outputs": [
        {
          "output_type": "stream",
          "name": "stdout",
          "text": [
            "5\n",
            "['0827CI191060', 'Urvashi', 6, 56, 90]\n"
          ]
        }
      ]
    },
    {
      "cell_type": "code",
      "source": [
        "print(li.pop())\n",
        "print(li[:])"
      ],
      "metadata": {
        "colab": {
          "base_uri": "https://localhost:8080/"
        },
        "id": "1-DTyzGxLGGo",
        "outputId": "5e7564f6-6465-4091-eb74-d375da68f9f0"
      },
      "execution_count": 13,
      "outputs": [
        {
          "output_type": "stream",
          "name": "stdout",
          "text": [
            "90\n",
            "['0827CI191060', 'Urvashi', 6, 56]\n"
          ]
        }
      ]
    },
    {
      "cell_type": "code",
      "source": [
        "a=[1,2,3,4,5]\n",
        "print(max(a))\n",
        "print(min(a))\n",
        "li.reverse()\n",
        "print(li)\n",
        "c=list(reversed(li))\n",
        "print(c)\n",
        "b=li[0:3]\n",
        "print(b)"
      ],
      "metadata": {
        "colab": {
          "base_uri": "https://localhost:8080/"
        },
        "id": "bJTDOLBdLIv_",
        "outputId": "de94c937-429d-4f96-bcce-bb0288898ef2"
      },
      "execution_count": 14,
      "outputs": [
        {
          "output_type": "stream",
          "name": "stdout",
          "text": [
            "5\n",
            "1\n",
            "[56, 6, 'Urvashi', '0827CI191060']\n",
            "['0827CI191060', 'Urvashi', 6, 56]\n",
            "[56, 6, 'Urvashi']\n"
          ]
        }
      ]
    },
    {
      "cell_type": "code",
      "source": [
        "a.append(1)\n",
        "print(a)\n",
        "\n",
        "a.extend([\"urvashi\",\"pathak\"])\n",
        "print(a)\n",
        "\n",
        "print(a[: :-1])"
      ],
      "metadata": {
        "colab": {
          "base_uri": "https://localhost:8080/"
        },
        "id": "DGBaMrhXLMeY",
        "outputId": "587b2dcb-fa51-48fe-ad26-a94fdde82aa6"
      },
      "execution_count": 15,
      "outputs": [
        {
          "output_type": "stream",
          "name": "stdout",
          "text": [
            "[1, 2, 3, 4, 5, 1]\n",
            "[1, 2, 3, 4, 5, 1, 'urvashi', 'pathak']\n",
            "['pathak', 'urvashi', 1, 5, 4, 3, 2, 1]\n"
          ]
        }
      ]
    },
    {
      "cell_type": "code",
      "source": [
        "t=(1,2,3,4)\n",
        "print(t)\n",
        "\n",
        "t1=(3,4,5,6)\n",
        "t+t1\n",
        "\n",
        "lis=[0,1,2,3,4,5,6,7,8,9,10,11,12,13,14,15,16,17,18,19,20]\n",
        "print(lis[::2])\n",
        "print(lis[::-2],\"------\")\n",
        "print(lis[3::-1])\n",
        "print(lis[12:0:-2])\n",
        "\n",
        "t3=[i for i in t1 if i%2==0]\n",
        "print(t3)"
      ],
      "metadata": {
        "colab": {
          "base_uri": "https://localhost:8080/"
        },
        "id": "w1hCzsj4LRUR",
        "outputId": "d8fe17ff-468f-40f2-ecf7-602bdc7cd3a1"
      },
      "execution_count": 16,
      "outputs": [
        {
          "output_type": "stream",
          "name": "stdout",
          "text": [
            "(1, 2, 3, 4)\n",
            "[0, 2, 4, 6, 8, 10, 12, 14, 16, 18, 20]\n",
            "[20, 18, 16, 14, 12, 10, 8, 6, 4, 2, 0] ------\n",
            "[3, 2, 1, 0]\n",
            "[12, 10, 8, 6, 4, 2]\n",
            "[4, 6]\n"
          ]
        }
      ]
    }
  ]
}